{
 "cells": [
  {
   "cell_type": "code",
   "execution_count": 1,
   "metadata": {},
   "outputs": [],
   "source": [
    "# define a couple of async coroutines\n",
    "\n",
    "async def corout():\n",
    "    print('running corout')\n",
    "    return 'something returned'\n",
    "\n",
    "# Note that the returned value gets tacked on to the StopIteration\n",
    "\n",
    "async def corout2():\n",
    "    print('running corout2')\n",
    "    await corout()"
   ]
  },
  {
   "cell_type": "code",
   "execution_count": 2,
   "metadata": {},
   "outputs": [],
   "source": [
    "cr = corout()"
   ]
  },
  {
   "cell_type": "code",
   "execution_count": 3,
   "metadata": {},
   "outputs": [
    {
     "data": {
      "text/plain": [
       "coroutine"
      ]
     },
     "execution_count": 3,
     "metadata": {},
     "output_type": "execute_result"
    }
   ],
   "source": [
    "# checkout the object type...\n",
    "type(cr)"
   ]
  },
  {
   "cell_type": "code",
   "execution_count": 4,
   "metadata": {},
   "outputs": [
    {
     "name": "stdout",
     "output_type": "stream",
     "text": [
      "running corout\n"
     ]
    },
    {
     "ename": "StopIteration",
     "evalue": "something returned",
     "output_type": "error",
     "traceback": [
      "\u001b[0;31m---------------------------------------------------------------------------\u001b[0m",
      "\u001b[0;31mStopIteration\u001b[0m                             Traceback (most recent call last)",
      "\u001b[0;32m<ipython-input-4-c0a293358db4>\u001b[0m in \u001b[0;36m<module>\u001b[0;34m()\u001b[0m\n\u001b[1;32m      1\u001b[0m \u001b[0;31m# run the code in the coroutine\u001b[0m\u001b[0;34m\u001b[0m\u001b[0;34m\u001b[0m\u001b[0m\n\u001b[0;32m----> 2\u001b[0;31m \u001b[0mcr\u001b[0m\u001b[0;34m.\u001b[0m\u001b[0msend\u001b[0m\u001b[0;34m(\u001b[0m\u001b[0;32mNone\u001b[0m\u001b[0;34m)\u001b[0m\u001b[0;34m\u001b[0m\u001b[0m\n\u001b[0m",
      "\u001b[0;31mStopIteration\u001b[0m: something returned"
     ]
    }
   ],
   "source": [
    "# run the code in the coroutine\n",
    "cr.send(None)"
   ]
  },
  {
   "cell_type": "code",
   "execution_count": 6,
   "metadata": {},
   "outputs": [
    {
     "name": "stdout",
     "output_type": "stream",
     "text": [
      "running corout2\n",
      "running corout\n"
     ]
    },
    {
     "ename": "StopIteration",
     "evalue": "",
     "output_type": "error",
     "traceback": [
      "\u001b[0;31m---------------------------------------------------------------------------\u001b[0m",
      "\u001b[0;31mStopIteration\u001b[0m                             Traceback (most recent call last)",
      "\u001b[0;32m<ipython-input-6-b4adfb7cba45>\u001b[0m in \u001b[0;36m<module>\u001b[0;34m()\u001b[0m\n\u001b[1;32m      1\u001b[0m \u001b[0;31m# run the second coroutine\u001b[0m\u001b[0;34m\u001b[0m\u001b[0;34m\u001b[0m\u001b[0m\n\u001b[1;32m      2\u001b[0m \u001b[0mcr2\u001b[0m \u001b[0;34m=\u001b[0m \u001b[0mcorout2\u001b[0m\u001b[0;34m(\u001b[0m\u001b[0;34m)\u001b[0m\u001b[0;34m\u001b[0m\u001b[0m\n\u001b[0;32m----> 3\u001b[0;31m \u001b[0mcr2\u001b[0m\u001b[0;34m.\u001b[0m\u001b[0msend\u001b[0m\u001b[0;34m(\u001b[0m\u001b[0;32mNone\u001b[0m\u001b[0;34m)\u001b[0m\u001b[0;34m\u001b[0m\u001b[0m\n\u001b[0m",
      "\u001b[0;31mStopIteration\u001b[0m: "
     ]
    }
   ],
   "source": [
    "# run the second coroutine\n",
    "cr2 = corout2()\n",
    "cr2.send(None)"
   ]
  },
  {
   "cell_type": "code",
   "execution_count": 8,
   "metadata": {},
   "outputs": [],
   "source": [
    "# another method to create coroutines is to use the coroutine decorator form the types module\n",
    "\n",
    "from types import coroutine\n",
    "\n",
    "@coroutine\n",
    "def do_nothing():\n",
    "    '''\n",
    "    Here is one that does absolutely nothing\n",
    "    but it can be awaited\n",
    "    '''\n",
    "    yield\n",
    "    \n",
    "dn = do_nothing()"
   ]
  },
  {
   "cell_type": "code",
   "execution_count": 9,
   "metadata": {},
   "outputs": [],
   "source": [
    "# run the coroutine\n",
    "dn.send(None)"
   ]
  },
  {
   "cell_type": "code",
   "execution_count": 10,
   "metadata": {},
   "outputs": [
    {
     "ename": "StopIteration",
     "evalue": "",
     "output_type": "error",
     "traceback": [
      "\u001b[0;31m---------------------------------------------------------------------------\u001b[0m",
      "\u001b[0;31mStopIteration\u001b[0m                             Traceback (most recent call last)",
      "\u001b[0;32m<ipython-input-10-f8a02bea9453>\u001b[0m in \u001b[0;36m<module>\u001b[0;34m()\u001b[0m\n\u001b[1;32m      1\u001b[0m \u001b[0;31m# nothing appeared to happen above because the do_nothing coroutine doesn't rield anything\u001b[0m\u001b[0;34m\u001b[0m\u001b[0;34m\u001b[0m\u001b[0m\n\u001b[1;32m      2\u001b[0m \u001b[0;31m# run it again and you'll see the stop iteration is returned however\u001b[0m\u001b[0;34m\u001b[0m\u001b[0;34m\u001b[0m\u001b[0m\n\u001b[0;32m----> 3\u001b[0;31m \u001b[0mdn\u001b[0m\u001b[0;34m.\u001b[0m\u001b[0msend\u001b[0m\u001b[0;34m(\u001b[0m\u001b[0;32mNone\u001b[0m\u001b[0;34m)\u001b[0m\u001b[0;34m\u001b[0m\u001b[0m\n\u001b[0m",
      "\u001b[0;31mStopIteration\u001b[0m: "
     ]
    }
   ],
   "source": [
    "# nothing appeared to happen above because the do_nothing coroutine doesn't rield anything\n",
    "# run it again and you'll see the stop iteration is returned however\n",
    "dn.send(None)"
   ]
  },
  {
   "cell_type": "code",
   "execution_count": 22,
   "metadata": {},
   "outputs": [
    {
     "name": "stdout",
     "output_type": "stream",
     "text": [
      "in the loop for the 0th time\n"
     ]
    },
    {
     "data": {
      "text/plain": [
       "'something from do_nothing()'"
      ]
     },
     "execution_count": 22,
     "metadata": {},
     "output_type": "execute_result"
    }
   ],
   "source": [
    "# another example of a coroutine that awaits on the first one\n",
    "from types import coroutine\n",
    "\n",
    "'''\n",
    "applying the coroutine decorator makes a generator a coroutine, and thus an async...\n",
    "'''\n",
    "\n",
    "@coroutine\n",
    "def do_nothing():\n",
    "    '''\n",
    "    Here is one that does absolutely nothing\n",
    "    but it can be awaited\n",
    "    '''\n",
    "    yield 'something from do_nothing()'\n",
    "    return 'return from do_nothing'\n",
    "\n",
    "async def do_a_few_things(num=3):\n",
    "    # a loop for multiple things\n",
    "    for i in range(num):\n",
    "        print(f'in the loop for the {i}th time')\n",
    "        res = await do_nothing()\n",
    "        print('res is:', res)\n",
    "\n",
    "# create it        \n",
    "daft = do_a_few_things(5)\n",
    "\n",
    "# and run it\n",
    "daft.send(None)\n"
   ]
  },
  {
   "cell_type": "code",
   "execution_count": 23,
   "metadata": {},
   "outputs": [
    {
     "name": "stdout",
     "output_type": "stream",
     "text": [
      "res is: return from do_nothing\n",
      "in the loop for the 1th time\n"
     ]
    },
    {
     "data": {
      "text/plain": [
       "'something from do_nothing()'"
      ]
     },
     "execution_count": 23,
     "metadata": {},
     "output_type": "execute_result"
    }
   ],
   "source": [
    "# it's acting as a generator and we need to continue to call it to get to the StopIteration\n",
    "daft.send(None)"
   ]
  },
  {
   "cell_type": "code",
   "execution_count": 24,
   "metadata": {},
   "outputs": [
    {
     "name": "stdout",
     "output_type": "stream",
     "text": [
      "res is: return from do_nothing\n",
      "in the loop for the 2th time\n"
     ]
    },
    {
     "data": {
      "text/plain": [
       "'something from do_nothing()'"
      ]
     },
     "execution_count": 24,
     "metadata": {},
     "output_type": "execute_result"
    }
   ],
   "source": [
    "daft.send(None)"
   ]
  },
  {
   "cell_type": "code",
   "execution_count": 25,
   "metadata": {},
   "outputs": [
    {
     "name": "stdout",
     "output_type": "stream",
     "text": [
      "res is: return from do_nothing\n",
      "in the loop for the 3th time\n"
     ]
    },
    {
     "data": {
      "text/plain": [
       "'something from do_nothing()'"
      ]
     },
     "execution_count": 25,
     "metadata": {},
     "output_type": "execute_result"
    }
   ],
   "source": [
    "daft.send(None)"
   ]
  },
  {
   "cell_type": "code",
   "execution_count": 26,
   "metadata": {},
   "outputs": [
    {
     "name": "stdout",
     "output_type": "stream",
     "text": [
      "res is: return from do_nothing\n",
      "in the loop for the 4th time\n"
     ]
    },
    {
     "data": {
      "text/plain": [
       "'something from do_nothing()'"
      ]
     },
     "execution_count": 26,
     "metadata": {},
     "output_type": "execute_result"
    }
   ],
   "source": [
    "daft.send(None)"
   ]
  },
  {
   "cell_type": "code",
   "execution_count": 27,
   "metadata": {},
   "outputs": [
    {
     "name": "stdout",
     "output_type": "stream",
     "text": [
      "res is: return from do_nothing\n"
     ]
    },
    {
     "ename": "StopIteration",
     "evalue": "",
     "output_type": "error",
     "traceback": [
      "\u001b[0;31m---------------------------------------------------------------------------\u001b[0m",
      "\u001b[0;31mStopIteration\u001b[0m                             Traceback (most recent call last)",
      "\u001b[0;32m<ipython-input-27-4a92eae84626>\u001b[0m in \u001b[0;36m<module>\u001b[0;34m()\u001b[0m\n\u001b[1;32m      1\u001b[0m \u001b[0;31m# this one will get the StopIteration\u001b[0m\u001b[0;34m\u001b[0m\u001b[0;34m\u001b[0m\u001b[0m\n\u001b[0;32m----> 2\u001b[0;31m \u001b[0mdaft\u001b[0m\u001b[0;34m.\u001b[0m\u001b[0msend\u001b[0m\u001b[0;34m(\u001b[0m\u001b[0;32mNone\u001b[0m\u001b[0;34m)\u001b[0m\u001b[0;34m\u001b[0m\u001b[0m\n\u001b[0m",
      "\u001b[0;31mStopIteration\u001b[0m: "
     ]
    }
   ],
   "source": [
    "# this one will get the StopIteration\n",
    "daft.send(None)"
   ]
  },
  {
   "cell_type": "code",
   "execution_count": 31,
   "metadata": {},
   "outputs": [
    {
     "name": "stdout",
     "output_type": "stream",
     "text": [
      "in the loop for the 0th time\n",
      "res is: None\n",
      "in the loop for the 1th time\n",
      "res is: None\n",
      "in the loop for the 2th time\n",
      "res is: None\n",
      "in the loop for the 3th time\n",
      "res is: None\n",
      "in the loop for the 4th time\n",
      "res is: None\n",
      "The awaitable is complete\n",
      "passed out:  do_a_few_things result\n"
     ]
    }
   ],
   "source": [
    "# now use a while loop to loop through the coroutine until you get the StopIteration\n",
    "from types import coroutine\n",
    "\n",
    "'''\n",
    "applying the coroutine decorator makes a generator a coroutine, and thus an async...\n",
    "'''\n",
    "\n",
    "@coroutine\n",
    "def do_nothing():\n",
    "    '''\n",
    "    Here is one that does absolutely nothing\n",
    "    but it can be awaited\n",
    "    '''\n",
    "    yield 'something from do_nothing()'\n",
    "\n",
    "async def do_a_few_things(num=3):\n",
    "    # a loop for multiple things\n",
    "    for i in range(num):\n",
    "        print(f'in the loop for the {i}th time')\n",
    "        res = await do_nothing()\n",
    "        print('res is:', res)\n",
    "    return 'do_a_few_things result'\n",
    "\n",
    "daft = do_a_few_things(5)\n",
    "\n",
    "while True:\n",
    "    try:\n",
    "        daft.send(None)\n",
    "    except StopIteration as si:\n",
    "        print('The awaitable is complete')\n",
    "        print('passed out: ', si)\n",
    "        break\n",
    "\n"
   ]
  }
 ],
 "metadata": {
  "kernelspec": {
   "display_name": "Python 3",
   "language": "python",
   "name": "python3"
  },
  "language_info": {
   "codemirror_mode": {
    "name": "ipython",
    "version": 3
   },
   "file_extension": ".py",
   "mimetype": "text/x-python",
   "name": "python",
   "nbconvert_exporter": "python",
   "pygments_lexer": "ipython3",
   "version": "3.6.4"
  }
 },
 "nbformat": 4,
 "nbformat_minor": 2
}

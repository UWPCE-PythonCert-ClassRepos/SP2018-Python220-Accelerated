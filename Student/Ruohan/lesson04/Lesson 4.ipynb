{
 "cells": [
  {
   "cell_type": "code",
   "execution_count": null,
   "metadata": {},
   "outputs": [],
   "source": [
    "## Exercise #1\n"
   ]
  },
  {
   "cell_type": "code",
   "execution_count": 1,
   "metadata": {},
   "outputs": [
    {
     "name": "stdout",
     "output_type": "stream",
     "text": [
      "b\n",
      "a\n"
     ]
    }
   ],
   "source": [
    "def a(func):\n",
    "    print('a')\n",
    "    return func\n",
    "\n",
    "def b(func):\n",
    "    print('b')\n",
    "    return func\n",
    "\n",
    "@a\n",
    "@b\n",
    "def foo():\n",
    "    pass"
   ]
  },
  {
   "cell_type": "code",
   "execution_count": null,
   "metadata": {},
   "outputs": [],
   "source": [
    "## Did you know b printed before a?\n",
    "## That's because the decorator closest to def will be called first\n",
    "## Then its return value is passed to the 1st decorator\n",
    "## Eventually, the return value of the topmost decorator will be \n",
    "## assigned to the function's name in the containing scope"
   ]
  },
  {
   "cell_type": "code",
   "execution_count": null,
   "metadata": {},
   "outputs": [],
   "source": [
    "## Exercise #2\n"
   ]
  },
  {
   "cell_type": "code",
   "execution_count": null,
   "metadata": {},
   "outputs": [],
   "source": [
    "## Staticmethod -\n",
    "class bla:\n",
    "    \n",
    "@staticmethod\n",
    "def f(arg1, arg2, arg3):\n",
    "    pass\n",
    "\n",
    "@class\n",
    "    "
   ]
  },
  {
   "cell_type": "code",
   "execution_count": null,
   "metadata": {},
   "outputs": [],
   "source": [
    "## Demo of @classmethod and @staticmethod\n"
   ]
  },
  {
   "cell_type": "code",
   "execution_count": 2,
   "metadata": {},
   "outputs": [],
   "source": [
    "class Date(object):\n",
    "\n",
    "    def __init__(self, day=0, month=0, year=0):\n",
    "        self.day = day\n",
    "        self.month = month\n",
    "        self.year = year\n",
    "\n",
    "    @classmethod\n",
    "    def from_string(cls, date_as_string):\n",
    "        day, month, year = map(int, date_as_string.split('-'))\n",
    "        date1 = cls(day, month, year)\n",
    "        return date1\n",
    "\n",
    "    @staticmethod\n",
    "    def is_date_valid(date_as_string):\n",
    "        day, month, year = map(int, date_as_string.split('-'))\n",
    "        return day <= 31 and month <= 12 and year <= 3999\n"
   ]
  },
  {
   "cell_type": "code",
   "execution_count": 3,
   "metadata": {},
   "outputs": [],
   "source": [
    "date2 = Date.from_string('06-04-2018')\n",
    "is_date = Date.is_date_valid('06-05-2018')"
   ]
  },
  {
   "cell_type": "code",
   "execution_count": 4,
   "metadata": {},
   "outputs": [
    {
     "name": "stdout",
     "output_type": "stream",
     "text": [
      "<__main__.Date object at 0x1083eefd0>\n"
     ]
    }
   ],
   "source": [
    "print (date2)\n"
   ]
  },
  {
   "cell_type": "code",
   "execution_count": 5,
   "metadata": {},
   "outputs": [
    {
     "ename": "SyntaxError",
     "evalue": "invalid syntax (<ipython-input-5-d7e4b23b0a68>, line 1)",
     "output_type": "error",
     "traceback": [
      "\u001b[0;36m  File \u001b[0;32m\"<ipython-input-5-d7e4b23b0a68>\"\u001b[0;36m, line \u001b[0;32m1\u001b[0m\n\u001b[0;31m    Python four namespace: local, enclosed, global, builtin\u001b[0m\n\u001b[0m              ^\u001b[0m\n\u001b[0;31mSyntaxError\u001b[0m\u001b[0;31m:\u001b[0m invalid syntax\n"
     ]
    }
   ],
   "source": [
    "Python four namespace: local, enclosed, global, builtin"
   ]
  },
  {
   "cell_type": "code",
   "execution_count": 6,
   "metadata": {},
   "outputs": [],
   "source": [
    "## namespace Example\n",
    "class C:\n",
    "    a_class_attribute = 0\n",
    "    def __init__(self):\n",
    "        self.an_instance_attribute = 0\n",
    "        "
   ]
  },
  {
   "cell_type": "code",
   "execution_count": 7,
   "metadata": {},
   "outputs": [],
   "source": [
    "c = C()"
   ]
  },
  {
   "cell_type": "code",
   "execution_count": 8,
   "metadata": {},
   "outputs": [
    {
     "data": {
      "text/plain": [
       "['__class__',\n",
       " '__delattr__',\n",
       " '__dict__',\n",
       " '__dir__',\n",
       " '__doc__',\n",
       " '__eq__',\n",
       " '__format__',\n",
       " '__ge__',\n",
       " '__getattribute__',\n",
       " '__gt__',\n",
       " '__hash__',\n",
       " '__init__',\n",
       " '__init_subclass__',\n",
       " '__le__',\n",
       " '__lt__',\n",
       " '__module__',\n",
       " '__ne__',\n",
       " '__new__',\n",
       " '__reduce__',\n",
       " '__reduce_ex__',\n",
       " '__repr__',\n",
       " '__setattr__',\n",
       " '__sizeof__',\n",
       " '__str__',\n",
       " '__subclasshook__',\n",
       " '__weakref__',\n",
       " 'a_class_attribute',\n",
       " 'an_instance_attribute']"
      ]
     },
     "execution_count": 8,
     "metadata": {},
     "output_type": "execute_result"
    }
   ],
   "source": [
    "dir(c)"
   ]
  },
  {
   "cell_type": "code",
   "execution_count": 9,
   "metadata": {},
   "outputs": [
    {
     "data": {
      "text/plain": [
       "{'an_instance_attribute': 0}"
      ]
     },
     "execution_count": 9,
     "metadata": {},
     "output_type": "execute_result"
    }
   ],
   "source": [
    "vars(c)"
   ]
  },
  {
   "cell_type": "code",
   "execution_count": 10,
   "metadata": {},
   "outputs": [
    {
     "data": {
      "text/plain": [
       "mappingproxy({'__dict__': <attribute '__dict__' of 'C' objects>,\n",
       "              '__doc__': None,\n",
       "              '__init__': <function __main__.C.__init__>,\n",
       "              '__module__': '__main__',\n",
       "              '__weakref__': <attribute '__weakref__' of 'C' objects>,\n",
       "              'a_class_attribute': 0})"
      ]
     },
     "execution_count": 10,
     "metadata": {},
     "output_type": "execute_result"
    }
   ],
   "source": [
    "vars(C)\n"
   ]
  },
  {
   "cell_type": "code",
   "execution_count": 11,
   "metadata": {},
   "outputs": [
    {
     "data": {
      "text/plain": [
       "['__class__',\n",
       " '__delattr__',\n",
       " '__dict__',\n",
       " '__dir__',\n",
       " '__doc__',\n",
       " '__eq__',\n",
       " '__format__',\n",
       " '__ge__',\n",
       " '__getattribute__',\n",
       " '__gt__',\n",
       " '__hash__',\n",
       " '__init__',\n",
       " '__init_subclass__',\n",
       " '__le__',\n",
       " '__lt__',\n",
       " '__module__',\n",
       " '__ne__',\n",
       " '__new__',\n",
       " '__reduce__',\n",
       " '__reduce_ex__',\n",
       " '__repr__',\n",
       " '__setattr__',\n",
       " '__sizeof__',\n",
       " '__str__',\n",
       " '__subclasshook__',\n",
       " '__weakref__',\n",
       " 'a_class_attribute']"
      ]
     },
     "execution_count": 11,
     "metadata": {},
     "output_type": "execute_result"
    }
   ],
   "source": [
    "dir(C)"
   ]
  },
  {
   "cell_type": "code",
   "execution_count": null,
   "metadata": {},
   "outputs": [],
   "source": [
    "## Note this is only checks the format of the date string not the accuracy\n",
    "## of the date .\n",
    "print(is_date)"
   ]
  },
  {
   "cell_type": "code",
   "execution_count": null,
   "metadata": {},
   "outputs": [],
   "source": [
    "Exercise #3\n"
   ]
  },
  {
   "cell_type": "code",
   "execution_count": null,
   "metadata": {},
   "outputs": [],
   "source": [
    "class Awesome(object):\n",
    "    def fu(self,x):\n",
    "        print (\"About to execute fu(%s,%s)\"%(self,x))\n",
    "\n",
    "    @classmethod\n",
    "    def class_fu(cls,x):\n",
    "        print (\"About to execute class_fu(%s,%s)\"%(cls,x))\n",
    "\n",
    "    @staticmethod\n",
    "    def static_fu(x):\n",
    "        print (\"executing static_fu(%s)\"%x)    \n",
    "\n",
    "myobj=Awesome()        "
   ]
  },
  {
   "cell_type": "code",
   "execution_count": null,
   "metadata": {},
   "outputs": [],
   "source": [
    "## usual way an object instance calls a method. \n",
    "## The object instance, myobj, is implicitly passed as the first argument.\n",
    "## \n",
    "myobj.fu(1)"
   ]
  },
  {
   "cell_type": "code",
   "execution_count": null,
   "metadata": {},
   "outputs": [],
   "source": [
    "## @staticmethod\n",
    "\n",
    "## Lets do how @staticmethod works\n",
    "## neither self (the object instance) nor  cls (the class) is implicitly \n",
    "## passed as the first argument. They behave like plain functions except \n",
    "## that you can call them from an instance or the class:"
   ]
  },
  {
   "cell_type": "code",
   "execution_count": null,
   "metadata": {},
   "outputs": [],
   "source": [
    "myobj.static_fu(1)\n",
    "# executing static_fu(1)\n",
    "\n",
    "Awesome.static_fu('I am awesome')\n",
    "# executing static_fu('I am Awesome')"
   ]
  },
  {
   "cell_type": "code",
   "execution_count": null,
   "metadata": {},
   "outputs": [],
   "source": [
    "## Staticmethods are used to group functions which have some logical \n",
    "## connection with a class to the class.\n",
    "\n"
   ]
  },
  {
   "cell_type": "code",
   "execution_count": null,
   "metadata": {},
   "outputs": [],
   "source": [
    "##Classmethod\n",
    "## the class of the object instance is implicitly passed as the first \n",
    "## argument instead of self.\n",
    "\n",
    "myobj.class_fu(1)"
   ]
  },
  {
   "cell_type": "code",
   "execution_count": null,
   "metadata": {},
   "outputs": [],
   "source": [
    "## You can also call class_fu using the class. \n",
    "## If you define something to be a classmethod, it is probably \n",
    "## because you intend to call it from the class rather than from a \n",
    "## class instance. \n",
    "\n",
    "## Note the following\n",
    "## Awesome.fu(1) would have raised a TypeError, \n",
    "## but Awesome.class_fu(1) works just fine:\n"
   ]
  },
  {
   "cell_type": "code",
   "execution_count": null,
   "metadata": {
    "scrolled": true
   },
   "outputs": [],
   "source": [
    "Awesome.fu(1)"
   ]
  },
  {
   "cell_type": "code",
   "execution_count": null,
   "metadata": {},
   "outputs": [],
   "source": [
    "Awesome.class_fu(1)"
   ]
  },
  {
   "cell_type": "code",
   "execution_count": null,
   "metadata": {},
   "outputs": [],
   "source": [
    "## End of classmethod\n",
    "\n",
    "## To note\n",
    "## fu expects 2 arguments, while myobj.fu only expects 1 argument.\n",
    "## myobj is bound to fu\n"
   ]
  },
  {
   "cell_type": "code",
   "execution_count": null,
   "metadata": {},
   "outputs": [],
   "source": [
    "print(myobj.fu)"
   ]
  },
  {
   "cell_type": "code",
   "execution_count": null,
   "metadata": {},
   "outputs": [],
   "source": [
    "## With myobj.class_fu, myobj is not bound to class_fu, rather the class \n",
    "## Awesome is bound to class_fu.\n",
    "\n",
    "print(Awesome.class_fu)"
   ]
  },
  {
   "cell_type": "code",
   "execution_count": null,
   "metadata": {},
   "outputs": [],
   "source": [
    "## Here, with a staticmethod, even though it is a method, \n",
    "## myobj.static_fu just returns  with no arguments \n",
    "## bound. static_fu expects 1 argument, and myobj.static_fu expects \n",
    "## 1 argument too.\n",
    "\n",
    "print(myobj.static_fu)"
   ]
  },
  {
   "cell_type": "code",
   "execution_count": null,
   "metadata": {},
   "outputs": [],
   "source": [
    "## Exercise 4\n",
    "\n",
    "## getattr () example"
   ]
  },
  {
   "cell_type": "code",
   "execution_count": null,
   "metadata": {},
   "outputs": [],
   "source": [
    "class Person():\n",
    "    name = 'Wayne'\n",
    "    def say(self, what):\n",
    "        print(self.name, what)\n",
    "        "
   ]
  },
  {
   "cell_type": "code",
   "execution_count": null,
   "metadata": {},
   "outputs": [],
   "source": [
    "getattr(Person, 'name')\n"
   ]
  },
  {
   "cell_type": "code",
   "execution_count": null,
   "metadata": {},
   "outputs": [],
   "source": [
    "attr_name = 'name'"
   ]
  },
  {
   "cell_type": "code",
   "execution_count": null,
   "metadata": {},
   "outputs": [],
   "source": [
    "person = Person()"
   ]
  },
  {
   "cell_type": "code",
   "execution_count": null,
   "metadata": {},
   "outputs": [],
   "source": [
    "getattr(person, attr_name)"
   ]
  },
  {
   "cell_type": "code",
   "execution_count": null,
   "metadata": {},
   "outputs": [],
   "source": [
    "getattr(person, 'say')('Welcome to Python 220')"
   ]
  },
  {
   "cell_type": "code",
   "execution_count": null,
   "metadata": {},
   "outputs": [],
   "source": [
    "## getattr will raise AttributeError if attribute \n",
    "## with the given name does not exist in the object:\n",
    "getattr(person, 'age')"
   ]
  },
  {
   "cell_type": "code",
   "execution_count": null,
   "metadata": {},
   "outputs": [],
   "source": [
    "## Exercise 5\n",
    "\n",
    "## setattr()\n",
    "\n",
    "setattr(person, 'name', 'Tamara')"
   ]
  },
  {
   "cell_type": "code",
   "execution_count": null,
   "metadata": {},
   "outputs": [],
   "source": [
    "## accessing the instance attribute\n",
    "person.name"
   ]
  },
  {
   "cell_type": "code",
   "execution_count": null,
   "metadata": {},
   "outputs": [],
   "source": [
    "## accessing the class attribute\n",
    "Person.name\n"
   ]
  },
  {
   "cell_type": "code",
   "execution_count": null,
   "metadata": {},
   "outputs": [],
   "source": [
    "## Exercise 6\n",
    "\n",
    "## type Class\n",
    "## applying \"type\" to an object returns the class of which the object \n",
    "## is an instance of\n",
    "x = [1, 2, 3]\n",
    "y = \"Hello Py 220 Class\"\n",
    "print(type(x), type(y))"
   ]
  },
  {
   "cell_type": "code",
   "execution_count": null,
   "metadata": {},
   "outputs": [],
   "source": [
    "## object x is an instance of class list\n",
    "## object y is an instance of class str\n"
   ]
  },
  {
   "cell_type": "code",
   "execution_count": null,
   "metadata": {},
   "outputs": [],
   "source": [
    "## If you apply type on the name of a \n",
    "## class itself, you get the class \"type\" returned.\n",
    "\n",
    "print(type(list), type(str))"
   ]
  },
  {
   "cell_type": "code",
   "execution_count": null,
   "metadata": {},
   "outputs": [],
   "source": [
    "## Above command is same as \n",
    "\n",
    "print(type(x), type(y))\n",
    "print(type(type(x)), type(type(y)))\n"
   ]
  },
  {
   "cell_type": "code",
   "execution_count": null,
   "metadata": {},
   "outputs": [],
   "source": [
    "## A user-defined class (or the class \"object\") is an instance of the \n",
    "## class \"type\". So, we can see, that classes are created from type. \n",
    "## In Python3 there is no difference between \"classes\" and \"types\". \n",
    "## They are in most cases used as synonyms.\n",
    "\n",
    "\n",
    "## The fact that classes are instances of a class \"type\" allows us to \n",
    "## program metaclasses. We can create classes, which inherit from the class \n",
    "## \"type\". So, a metaclass is a subclass of the class \"type\".\n",
    "\n",
    "## Enter Metaclasses\n"
   ]
  },
  {
   "cell_type": "code",
   "execution_count": null,
   "metadata": {},
   "outputs": [],
   "source": []
  }
 ],
 "metadata": {
  "kernelspec": {
   "display_name": "Python 3",
   "language": "python",
   "name": "python3"
  },
  "language_info": {
   "codemirror_mode": {
    "name": "ipython",
    "version": 3
   },
   "file_extension": ".py",
   "mimetype": "text/x-python",
   "name": "python",
   "nbconvert_exporter": "python",
   "pygments_lexer": "ipython3",
   "version": "3.6.4"
  }
 },
 "nbformat": 4,
 "nbformat_minor": 2
}

{
 "cells": [
  {
   "cell_type": "code",
   "execution_count": 4,
   "metadata": {},
   "outputs": [],
   "source": [
    "def add(a, b):\n",
    "    print(\"this is a add function\")\n",
    "    return a + b\n",
    "\n",
    "def sub(a, b):\n",
    "    print(\"this is a substract function\")\n",
    "    return a - b\n",
    "\n",
    "def mul(a, b):\n",
    "    print(\"this is a multiply function\")\n",
    "    return a * b"
   ]
  },
  {
   "cell_type": "code",
   "execution_count": 2,
   "metadata": {},
   "outputs": [
    {
     "ename": "NameError",
     "evalue": "name 'logged' is not defined",
     "output_type": "error",
     "traceback": [
      "\u001b[0;31m---------------------------------------------------------------------------\u001b[0m",
      "\u001b[0;31mNameError\u001b[0m                                 Traceback (most recent call last)",
      "\u001b[0;32m<ipython-input-2-9d73812822f5>\u001b[0m in \u001b[0;36m<module>\u001b[0;34m()\u001b[0m\n\u001b[1;32m      3\u001b[0m     \u001b[0;32mreturn\u001b[0m \u001b[0mx\u001b[0m \u001b[0;34m+\u001b[0m \u001b[0my\u001b[0m\u001b[0;34m\u001b[0m\u001b[0m\n\u001b[1;32m      4\u001b[0m \u001b[0;34m\u001b[0m\u001b[0m\n\u001b[0;32m----> 5\u001b[0;31m \u001b[0mdecorators\u001b[0m\u001b[0;34m.\u001b[0m\u001b[0madd\u001b[0m \u001b[0;34m=\u001b[0m \u001b[0mlogged\u001b[0m\u001b[0;34m(\u001b[0m\u001b[0mdecorators\u001b[0m\u001b[0;34m.\u001b[0m\u001b[0madd\u001b[0m\u001b[0;34m)\u001b[0m\u001b[0;34m\u001b[0m\u001b[0m\n\u001b[0m\u001b[1;32m      6\u001b[0m    \u001b[0;31m##the same as\u001b[0m\u001b[0;34m\u001b[0m\u001b[0;34m\u001b[0m\u001b[0m\n\u001b[1;32m      7\u001b[0m \u001b[0;34m\u001b[0m\u001b[0m\n",
      "\u001b[0;31mNameError\u001b[0m: name 'logged' is not defined"
     ]
    }
   ],
   "source": [
    "def add(a, b):\n",
    "    print('add function')\n",
    "    return x + y\n",
    "\n",
    "decorators.add = logged(decorators.add)\n",
    "   ##the same as \n",
    "    \n",
    "@logged\n",
    "def add(a, b):\n",
    "    print('add function')\n",
    "    return x + y"
   ]
  },
  {
   "cell_type": "code",
   "execution_count": 1,
   "metadata": {},
   "outputs": [
    {
     "name": "stdout",
     "output_type": "stream",
     "text": [
      "inside my_decorator.__init__()\n",
      "inside aFunction()\n",
      "Finished decorating aFunction()\n",
      "inside my_decorator.__call__()\n"
     ]
    }
   ],
   "source": [
    "class my_decorator(object):\n",
    "\n",
    "    def __init__(self, f):\n",
    "        print(\"inside my_decorator.__init__()\")\n",
    "        f() # Prove that function definition has completed\n",
    "\n",
    "    def __call__(self):\n",
    "        print(\"inside my_decorator.__call__()\")\n",
    "\n",
    "@my_decorator\n",
    "def aFunction():\n",
    "    print(\"inside aFunction()\")\n",
    "\n",
    "print(\"Finished decorating aFunction()\")\n",
    "\n",
    "aFunction()"
   ]
  },
  {
   "cell_type": "code",
   "execution_count": 6,
   "metadata": {},
   "outputs": [
    {
     "name": "stdout",
     "output_type": "stream",
     "text": [
      "Entering func1\n",
      "inside func1()\n",
      "Exited func1\n",
      "Entering func2\n",
      "inside func2()\n",
      "Exited func2\n"
     ]
    }
   ],
   "source": [
    "class entry_exit(object):\n",
    "\n",
    "    def __init__(self, f):\n",
    "        self.f = f\n",
    "\n",
    "    def __call__(self):\n",
    "        print(\"Entering\", self.f.__name__)\n",
    "        self.f()\n",
    "        print(\"Exited\", self.f.__name__)\n",
    "\n",
    "@entry_exit\n",
    "def func1():\n",
    "    print(\"inside func1()\")\n",
    "\n",
    "@entry_exit\n",
    "def func2():\n",
    "    print(\"inside func2()\")\n",
    "\n",
    "func1()\n",
    "func2()"
   ]
  },
  {
   "cell_type": "code",
   "execution_count": 7,
   "metadata": {},
   "outputs": [
    {
     "name": "stdout",
     "output_type": "stream",
     "text": [
      "Inside __init__()\n",
      "Inside __call__()\n",
      "After decoration\n",
      "Preparing to call sayHello()\n",
      "Inside wrapped_f()\n",
      "Decorator arguments: hello world 42\n",
      "sayHello arguments: say hello argument list\n",
      "After f(*args)\n",
      "after first sayHello() call\n",
      "Inside wrapped_f()\n",
      "Decorator arguments: hello world 42\n",
      "sayHello arguments: a different set of arguments\n",
      "After f(*args)\n",
      "after second sayHello() call\n"
     ]
    }
   ],
   "source": [
    "class decorator_with_arguments(object):\n",
    "\n",
    "    def __init__(self, arg1, arg2, arg3):\n",
    "        \"\"\"\n",
    "        If there are decorator arguments, the function\n",
    "        to be decorated is not passed to the constructor!\n",
    "        \"\"\"\n",
    "        print(\"Inside __init__()\")\n",
    "        self.arg1 = arg1\n",
    "        self.arg2 = arg2\n",
    "        self.arg3 = arg3\n",
    "\n",
    "    def __call__(self, f):\n",
    "        \"\"\"\n",
    "        If there are decorator arguments, __call__() is only called\n",
    "        once, as part of the decoration process! You can only give\n",
    "        it a single argument, which is the function object.\n",
    "        \"\"\"\n",
    "        print(\"Inside __call__()\")\n",
    "        def wrapped_f(*args):\n",
    "            print(\"Inside wrapped_f()\")\n",
    "            print(\"Decorator arguments:\", self.arg1, self.arg2, self.arg3)\n",
    "            f(*args)\n",
    "            print(\"After f(*args)\")\n",
    "        return wrapped_f\n",
    "\n",
    "@decorator_with_arguments(\"hello\", \"world\", 42)\n",
    "def sayHello(a1, a2, a3, a4):\n",
    "    print('sayHello arguments:', a1, a2, a3, a4)\n",
    "\n",
    "print(\"After decoration\")\n",
    "\n",
    "print(\"Preparing to call sayHello()\")\n",
    "sayHello(\"say\", \"hello\", \"argument\", \"list\")\n",
    "print(\"after first sayHello() call\")\n",
    "sayHello(\"a\", \"different\", \"set of\", \"arguments\")\n",
    "print(\"after second sayHello() call\")"
   ]
  },
  {
   "cell_type": "code",
   "execution_count": null,
   "metadata": {},
   "outputs": [],
   "source": [
    "f = "
   ]
  }
 ],
 "metadata": {
  "kernelspec": {
   "display_name": "Python 3",
   "language": "python",
   "name": "python3"
  },
  "language_info": {
   "codemirror_mode": {
    "name": "ipython",
    "version": 3
   },
   "file_extension": ".py",
   "mimetype": "text/x-python",
   "name": "python",
   "nbconvert_exporter": "python",
   "pygments_lexer": "ipython3",
   "version": "3.6.4"
  }
 },
 "nbformat": 4,
 "nbformat_minor": 2
}

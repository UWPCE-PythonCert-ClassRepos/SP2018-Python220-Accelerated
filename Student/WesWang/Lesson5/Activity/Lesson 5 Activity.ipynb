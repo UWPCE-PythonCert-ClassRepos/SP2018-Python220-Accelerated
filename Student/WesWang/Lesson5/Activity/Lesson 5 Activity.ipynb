{
 "cells": [
  {
   "cell_type": "code",
   "execution_count": null,
   "metadata": {},
   "outputs": [],
   "source": [
    "import sys\n",
    "\n",
    "def my_fun(n):\n",
    "    if n == 2:\n",
    "        return True\n",
    "    return my_fun(n/2)\n",
    "\n",
    "if __name__ == '__main__':\n",
    "    n = 10\n",
    "    print(my_fun(n))"
   ]
  },
  {
   "cell_type": "code",
   "execution_count": null,
   "metadata": {},
   "outputs": [],
   "source": [
    "'''\n",
    "Problem with the code:\n",
    "\n",
    "1. If n is not the power of 2, it will eventually become an odd number, and we do not have a way to handle it.\n",
    "2. myfun() will keep subtracting itself by two if n is not the power of 2, and results in infinite recursion until it reaches limit.\n",
    "3. As my_fun() gets deeper, n will eventually turn into a decimal, and will never become 2.\n",
    "'''"
   ]
  },
  {
   "cell_type": "code",
   "execution_count": null,
   "metadata": {},
   "outputs": [],
   "source": [
    "# Debug Log\n",
    "C:\\_Python220AC\\SP2018-Python220-Accelerated\\Student\\WesWang\\Lesson5\\Activity>python -m pdb recursive.py 10\n",
    "> c:\\_python220ac\\sp2018-python220-accelerated\\student\\weswang\\lesson5\\activity\\recursive.py(1)<module>()\n",
    "-> import sys\n",
    "(Pdb) ll\n",
    "  1  -> import sys\n",
    "  2\n",
    "  3     def my_fun(n):\n",
    "  4         if n == 2:\n",
    "  5             return True\n",
    "  6         return my_fun(n/2)\n",
    "  7\n",
    "  8     if __name__ == '__main__':\n",
    "  9         n = int(sys.argv[1])\n",
    " 10         print(my_fun(n))\n",
    "(Pdb) b 6\n",
    "Breakpoint 1 at c:\\_python220ac\\sp2018-python220-accelerated\\student\\weswang\\lesson5\\activity\\recursive.py:6\n",
    "(Pdb) c\n",
    "> c:\\_python220ac\\sp2018-python220-accelerated\\student\\weswang\\lesson5\\activity\\recursive.py(6)my_fun()\n",
    "-> return my_fun(n/2)\n",
    "(Pdb) p n\n",
    "10\n",
    "(Pdb) c\n",
    "> c:\\_python220ac\\sp2018-python220-accelerated\\student\\weswang\\lesson5\\activity\\recursive.py(6)my_fun()\n",
    "-> return my_fun(n/2)\n",
    "(Pdb) p n\n",
    "5.0\n",
    "(Pdb) c\n",
    "> c:\\_python220ac\\sp2018-python220-accelerated\\student\\weswang\\lesson5\\activity\\recursive.py(6)my_fun()\n",
    "-> return my_fun(n/2)\n",
    "(Pdb) p n\n",
    "2.5\n",
    "(Pdb) c\n",
    "> c:\\_python220ac\\sp2018-python220-accelerated\\student\\weswang\\lesson5\\activity\\recursive.py(6)my_fun()\n",
    "-> return my_fun(n/2)\n",
    "(Pdb) p n\n",
    "1.25\n",
    "(Pdb) c\n",
    "> c:\\_python220ac\\sp2018-python220-accelerated\\student\\weswang\\lesson5\\activity\\recursive.py(6)my_fun()\n",
    "-> return my_fun(n/2)\n",
    "(Pdb) p n\n",
    "0.625\n",
    "'''\n",
    "n is already below 2 and will keep getting lower infinitely.\n",
    "'''"
   ]
  }
 ],
 "metadata": {
  "kernelspec": {
   "display_name": "Python 3",
   "language": "python",
   "name": "python3"
  },
  "language_info": {
   "codemirror_mode": {
    "name": "ipython",
    "version": 3
   },
   "file_extension": ".py",
   "mimetype": "text/x-python",
   "name": "python",
   "nbconvert_exporter": "python",
   "pygments_lexer": "ipython3",
   "version": "3.6.5"
  }
 },
 "nbformat": 4,
 "nbformat_minor": 2
}

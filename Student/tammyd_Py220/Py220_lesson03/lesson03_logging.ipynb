{
 "cells": [
  {
   "cell_type": "code",
   "execution_count": null,
   "metadata": {},
   "outputs": [],
   "source": [
    "def add (a, b):\n",
    "    print(\"this is add function\")\n",
    "    logged(\"this is log for add\")\n",
    "    return a + b\n",
    "\n",
    "def sub(a, b):\n",
    "    print(\"this is add function\")\n",
    "    logged(\"this is log for add\")\n",
    "    return a - b\n",
    "\n",
    "def mul(a, b):\n",
    "    print(\"this is add function\")\n",
    "    logged(\"this is log for add\")\n",
    "    return a * b"
   ]
  }
 ],
 "metadata": {
  "kernelspec": {
   "display_name": "Python 3",
   "language": "python",
   "name": "python3"
  },
  "language_info": {
   "codemirror_mode": {
    "name": "ipython",
    "version": 3
   },
   "file_extension": ".py",
   "mimetype": "text/x-python",
   "name": "python",
   "nbconvert_exporter": "python",
   "pygments_lexer": "ipython3",
   "version": "3.6.5"
  }
 },
 "nbformat": 4,
 "nbformat_minor": 2
}

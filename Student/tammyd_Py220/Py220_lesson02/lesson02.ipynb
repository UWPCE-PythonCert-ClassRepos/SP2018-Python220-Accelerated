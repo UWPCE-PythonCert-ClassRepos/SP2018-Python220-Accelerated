{
 "cells": [
  {
   "cell_type": "code",
   "execution_count": 1,
   "metadata": {},
   "outputs": [],
   "source": [
    "class Primes:\n",
    "    def __init__(self, max):\n",
    "        self.max = max\n",
    "        self.number = 1\n",
    "    def __iter__(self):\n",
    "        return self\n",
    "    def __next__(self):\n",
    "        self.number += 1\n",
    "        if self.number >= self.max:\n",
    "            raise StopIteration\n",
    "        elif check_prime(self.number):\n",
    "            return self.number\n",
    "        else:\n",
    "            return self.__next__()"
   ]
  },
  {
   "cell_type": "code",
   "execution_count": 2,
   "metadata": {},
   "outputs": [],
   "source": [
    "def check_prime(number):\n",
    "   for divisor in range(2, int(number ** 0.5) + 1):\n",
    "       if number % divisor == 0:\n",
    "           return False\n",
    "   return True"
   ]
  },
  {
   "cell_type": "code",
   "execution_count": 3,
   "metadata": {},
   "outputs": [
    {
     "name": "stdout",
     "output_type": "stream",
     "text": [
      "<__main__.Primes object at 0x10491a5c0>\n",
      "2\n",
      "3\n",
      "5\n",
      "7\n",
      "11\n",
      "13\n",
      "17\n",
      "19\n",
      "23\n",
      "29\n",
      "31\n",
      "37\n",
      "41\n",
      "43\n",
      "47\n",
      "53\n",
      "59\n",
      "61\n",
      "67\n",
      "71\n",
      "73\n",
      "79\n",
      "83\n",
      "89\n",
      "97\n"
     ]
    }
   ],
   "source": [
    "primes = Primes(100)\n",
    "print(primes)\n",
    "for x in primes:\n",
    "    print(x)"
   ]
  },
  {
   "cell_type": "raw",
   "metadata": {},
   "source": [
    "## Generator Intro\n",
    "\n",
    "A generator must have a yield\n",
    "It can yield many number of times\n",
    "Yield is two way - you can input and output\n",
    "It saves state\n",
    "It is a better version than Iterator or regulat function"
   ]
  },
  {
   "cell_type": "code",
   "execution_count": 4,
   "metadata": {},
   "outputs": [
    {
     "data": {
      "text/plain": [
       "285"
      ]
     },
     "execution_count": 4,
     "metadata": {},
     "output_type": "execute_result"
    }
   ],
   "source": [
    "## Generator Expressions\n",
    "\n",
    "sum([x*x for x in range(10)])"
   ]
  },
  {
   "cell_type": "code",
   "execution_count": 5,
   "metadata": {},
   "outputs": [],
   "source": [
    "# variable = [out_exp for out_exp in input_list if out_exp == 2]"
   ]
  },
  {
   "cell_type": "code",
   "execution_count": 6,
   "metadata": {},
   "outputs": [
    {
     "name": "stdout",
     "output_type": "stream",
     "text": [
      "<generator object Primes at 0x1048fbd58>\n",
      "2\n",
      "3\n",
      "5\n",
      "7\n",
      "11\n",
      "13\n",
      "17\n",
      "19\n",
      "23\n",
      "29\n",
      "31\n",
      "37\n",
      "41\n",
      "43\n",
      "47\n",
      "53\n",
      "59\n",
      "61\n",
      "67\n",
      "71\n",
      "73\n",
      "79\n",
      "83\n",
      "89\n",
      "97\n"
     ]
    }
   ],
   "source": [
    "def Primes(max):\n",
    "    number = 1\n",
    "    while number < max:\n",
    "        number += 1\n",
    "        if check_prime(number):\n",
    "            yield number\n",
    "            \n",
    "primes = Primes(100)\n",
    "print(primes)\n",
    "for x in primes:\n",
    "    print(x)"
   ]
  },
  {
   "cell_type": "code",
   "execution_count": null,
   "metadata": {},
   "outputs": [],
   "source": [
    "## Non local vs Global"
   ]
  },
  {
   "cell_type": "code",
   "execution_count": 7,
   "metadata": {},
   "outputs": [
    {
     "name": "stdout",
     "output_type": "stream",
     "text": [
      "Inner: Hey!\n"
     ]
    }
   ],
   "source": [
    "def outerFunction(text):\n",
    "    text = text\n",
    "    \n",
    "    def innerFunction():\n",
    "        print(\"Inner:\", text)\n",
    "        \n",
    "    return innerFunction # Note we are returning function WITHOUT parenthesis\n",
    " \n",
    "if __name__ == '__main__':\n",
    "    myFunction = outerFunction('Hey!')\n",
    "    myFunction()"
   ]
  },
  {
   "cell_type": "code",
   "execution_count": 8,
   "metadata": {},
   "outputs": [
    {
     "name": "stdout",
     "output_type": "stream",
     "text": [
      "{'outside': 1, 'inside': 2}\n",
      "{'outside': 1, 'inside': 2}\n"
     ]
    }
   ],
   "source": [
    "def outside():\n",
    "    d = {\"outside\": 1}\n",
    "    def inside():\n",
    "        d[\"inside\"] = 2\n",
    "        print(d)\n",
    "    inside()\n",
    "    print(d)\n",
    " \n",
    "outside()"
   ]
  },
  {
   "cell_type": "code",
   "execution_count": 17,
   "metadata": {},
   "outputs": [
    {
     "name": "stdout",
     "output_type": "stream",
     "text": [
      "{'inside': 2}\n",
      "Outside\n",
      "{'outside': 1}\n"
     ]
    }
   ],
   "source": [
    "def outside():\n",
    "        d = {\"outside\": 1}\n",
    "        def inside():\n",
    "            #nonlocal d\n",
    "            d = {\"inside\":2}\n",
    "            print(d)\n",
    "        inside()\n",
    "        print(\"Outside\")\n",
    "        print(d)\n",
    " \n",
    "outside()"
   ]
  },
  {
   "cell_type": "code",
   "execution_count": null,
   "metadata": {},
   "outputs": [],
   "source": [
    "# HeapQ Code Example 0-\n",
    "\n",
    "import heapq"
   ]
  },
  {
   "cell_type": "code",
   "execution_count": 18,
   "metadata": {},
   "outputs": [
    {
     "data": {
      "text/plain": [
       "[1, 2, 4, 6]"
      ]
     },
     "execution_count": 18,
     "metadata": {},
     "output_type": "execute_result"
    }
   ],
   "source": [
    "heap =[]\n",
    "heapq.heappush(heap,1)\n",
    "heapq.heappush(heap,2)\n",
    "heapq.heappush(heap,4)\n",
    "heapq.heappush(heap,6)\n",
    "heapq.heappush(heap,7)\n",
    "heapq.heappush(heap,9)\n",
    "heapq.heappush(heap,10)\n",
    "heapq.heappush(heap,12) \n",
    "heapq.nsmallest(4, heap)"
   ]
  },
  {
   "cell_type": "code",
   "execution_count": 20,
   "metadata": {},
   "outputs": [],
   "source": [
    "# With Partial code"
   ]
  },
  {
   "cell_type": "code",
   "execution_count": 21,
   "metadata": {},
   "outputs": [
    {
     "data": {
      "text/plain": [
       "[1, 3, 4, 5, 6, 8]"
      ]
     },
     "execution_count": 21,
     "metadata": {},
     "output_type": "execute_result"
    }
   ],
   "source": [
    "import functools\n",
    "import heapq\n",
    "heap =[]\n",
    "push = functools.partial(heapq.heappush, heap)\n",
    "smallest = functools.partial(heapq.nsmallest, iterable=heap)\n",
    "push(1)\n",
    "push(3)\n",
    "push(5)\n",
    "push(6)\n",
    "push(8)\n",
    "push(11)\n",
    "push(4)\n",
    "push(16)\n",
    "push(17)\n",
    "smallest(6)"
   ]
  },
  {
   "cell_type": "code",
   "execution_count": 24,
   "metadata": {},
   "outputs": [
    {
     "data": {
      "text/plain": [
       "[1, 2, 4, 6]"
      ]
     },
     "execution_count": 24,
     "metadata": {},
     "output_type": "execute_result"
    }
   ],
   "source": [
    "heap = []\n",
    "heapq.heappush(heap,1)\n",
    "heapq.heappush(heap,2)\n",
    "heapq.heappush(heap,4)\n",
    "heapq.heappush(heap,6)\n",
    "heapq.heappush(heap,7)\n",
    "heapq.heappush(heap,9)\n",
    "heapq.heappush(heap,10)\n",
    "heapq.heappush(heap,12) \n",
    "heapq.nsmallest(4, heap)"
   ]
  },
  {
   "cell_type": "code",
   "execution_count": 25,
   "metadata": {},
   "outputs": [],
   "source": [
    "# see if you can get izip to work ...."
   ]
  },
  {
   "cell_type": "code",
   "execution_count": 34,
   "metadata": {},
   "outputs": [
    {
     "ename": "ImportError",
     "evalue": "cannot import name 'izip'",
     "output_type": "error",
     "traceback": [
      "\u001b[0;31m---------------------------------------------------------------------------\u001b[0m",
      "\u001b[0;31mImportError\u001b[0m                               Traceback (most recent call last)",
      "\u001b[0;32m<ipython-input-34-5ce7444d9ce3>\u001b[0m in \u001b[0;36m<module>\u001b[0;34m()\u001b[0m\n\u001b[0;32m----> 1\u001b[0;31m \u001b[0;32mfrom\u001b[0m \u001b[0mitertools\u001b[0m \u001b[0;32mimport\u001b[0m \u001b[0mizip\u001b[0m\u001b[0;34m\u001b[0m\u001b[0m\n\u001b[0m\u001b[1;32m      2\u001b[0m \u001b[0;32mfor\u001b[0m \u001b[0mi\u001b[0m \u001b[0;32min\u001b[0m \u001b[0mizip\u001b[0m\u001b[0;34m(\u001b[0m\u001b[0;34m[\u001b[0m\u001b[0;36m1\u001b[0m\u001b[0;34m,\u001b[0m \u001b[0;36m2\u001b[0m\u001b[0;34m,\u001b[0m \u001b[0;36m3\u001b[0m\u001b[0;34m]\u001b[0m\u001b[0;34m,\u001b[0m \u001b[0;34m[\u001b[0m\u001b[0;34m'a'\u001b[0m\u001b[0;34m,\u001b[0m \u001b[0;34m'b'\u001b[0m\u001b[0;34m,\u001b[0m \u001b[0;34m'c'\u001b[0m\u001b[0;34m]\u001b[0m\u001b[0;34m)\u001b[0m\u001b[0;34m:\u001b[0m\u001b[0;34m\u001b[0m\u001b[0m\n\u001b[1;32m      3\u001b[0m     \u001b[0mprint\u001b[0m\u001b[0;34m(\u001b[0m\u001b[0mi\u001b[0m\u001b[0;34m)\u001b[0m\u001b[0;34m\u001b[0m\u001b[0m\n\u001b[1;32m      4\u001b[0m \u001b[0;34m\u001b[0m\u001b[0m\n\u001b[1;32m      5\u001b[0m \u001b[0;34m\u001b[0m\u001b[0m\n",
      "\u001b[0;31mImportError\u001b[0m: cannot import name 'izip'"
     ]
    }
   ],
   "source": [
    "from itertools import izip\n",
    "for i in izip([1, 2, 3], ['a', 'b', 'c']):\n",
    "    print(i)\n",
    "    \n",
    "    "
   ]
  },
  {
   "cell_type": "code",
   "execution_count": 29,
   "metadata": {},
   "outputs": [],
   "source": [
    "from itertools import islice\n",
    "\n",
    "slice = islice(\"ABCDEGF\", 2, None)"
   ]
  },
  {
   "cell_type": "code",
   "execution_count": 16,
   "metadata": {},
   "outputs": [
    {
     "name": "stdout",
     "output_type": "stream",
     "text": [
      "C\n",
      "D\n",
      "E\n",
      "G\n",
      "F\n"
     ]
    }
   ],
   "source": [
    "for x in slice:\n",
    "    print(x)"
   ]
  },
  {
   "cell_type": "code",
   "execution_count": null,
   "metadata": {},
   "outputs": [],
   "source": []
  }
 ],
 "metadata": {
  "kernelspec": {
   "display_name": "Python 3",
   "language": "python",
   "name": "python3"
  },
  "language_info": {
   "codemirror_mode": {
    "name": "ipython",
    "version": 3
   },
   "file_extension": ".py",
   "mimetype": "text/x-python",
   "name": "python",
   "nbconvert_exporter": "python",
   "pygments_lexer": "ipython3",
   "version": "3.6.5"
  }
 },
 "nbformat": 4,
 "nbformat_minor": 2
}

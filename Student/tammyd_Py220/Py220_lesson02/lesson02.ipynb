{
 "cells": [
  {
   "cell_type": "code",
   "execution_count": 51,
   "metadata": {},
   "outputs": [],
   "source": [
    "class Primes:\n",
    "    def __init__(self, max):\n",
    "        self.max = max\n",
    "        self.number = 1\n",
    "    def __iter__(self):\n",
    "        return self\n",
    "    def __next__(self):\n",
    "        self.number += 1\n",
    "        if self.number >= self.max:\n",
    "            raise StopIteration\n",
    "        elif check_prime(self.number):\n",
    "            return self.number\n",
    "        else:\n",
    "            return self.__next__()"
   ]
  },
  {
   "cell_type": "code",
   "execution_count": 52,
   "metadata": {},
   "outputs": [],
   "source": [
    "def check_prime(number):\n",
    "   for divisor in range(2, int(number ** 0.5) + 1):\n",
    "       if number % divisor == 0:\n",
    "           return False\n",
    "   return True"
   ]
  },
  {
   "cell_type": "code",
   "execution_count": 53,
   "metadata": {},
   "outputs": [
    {
     "name": "stdout",
     "output_type": "stream",
     "text": [
      "<__main__.Primes object at 0x1049ca6a0>\n",
      "2\n",
      "3\n",
      "5\n",
      "7\n",
      "11\n",
      "13\n",
      "17\n",
      "19\n",
      "23\n",
      "29\n",
      "31\n",
      "37\n",
      "41\n",
      "43\n",
      "47\n",
      "53\n",
      "59\n",
      "61\n",
      "67\n",
      "71\n",
      "73\n",
      "79\n",
      "83\n",
      "89\n",
      "97\n"
     ]
    }
   ],
   "source": [
    "primes = Primes(100)\n",
    "print(primes)\n",
    "for x in primes:\n",
    "    print(x)"
   ]
  },
  {
   "cell_type": "raw",
   "metadata": {},
   "source": [
    "## Generator Intro\n",
    "\n",
    "A generator must have a yield\n",
    "It can yield many number of times\n",
    "Yield is two way - you can input and output\n",
    "It saves state\n",
    "It is a better version than Iterator or regulat function"
   ]
  },
  {
   "cell_type": "code",
   "execution_count": 54,
   "metadata": {},
   "outputs": [
    {
     "data": {
      "text/plain": [
       "285"
      ]
     },
     "execution_count": 54,
     "metadata": {},
     "output_type": "execute_result"
    }
   ],
   "source": [
    "## Generator Expressions\n",
    "\n",
    "sum([x*x for x in range(10)])"
   ]
  },
  {
   "cell_type": "code",
   "execution_count": 55,
   "metadata": {},
   "outputs": [],
   "source": [
    "# variable = [out_exp for out_exp in input_list if out_exp == 2]"
   ]
  },
  {
   "cell_type": "code",
   "execution_count": 56,
   "metadata": {},
   "outputs": [
    {
     "name": "stdout",
     "output_type": "stream",
     "text": [
      "<generator object Primes at 0x1049827d8>\n",
      "2\n",
      "3\n",
      "5\n",
      "7\n",
      "11\n",
      "13\n",
      "17\n",
      "19\n",
      "23\n",
      "29\n",
      "31\n",
      "37\n",
      "41\n",
      "43\n",
      "47\n",
      "53\n",
      "59\n",
      "61\n",
      "67\n",
      "71\n",
      "73\n",
      "79\n",
      "83\n",
      "89\n",
      "97\n"
     ]
    }
   ],
   "source": [
    "def Primes(max):\n",
    "    number = 1\n",
    "    while number < max:\n",
    "        number += 1\n",
    "        if check_prime(number):\n",
    "            yield number\n",
    "            \n",
    "primes = Primes(100)\n",
    "print(primes)\n",
    "for x in primes:\n",
    "    print(x)"
   ]
  },
  {
   "cell_type": "code",
   "execution_count": 57,
   "metadata": {},
   "outputs": [],
   "source": [
    "## Non local vs Global"
   ]
  },
  {
   "cell_type": "code",
   "execution_count": 58,
   "metadata": {},
   "outputs": [
    {
     "name": "stdout",
     "output_type": "stream",
     "text": [
      "Inner: Hey!\n"
     ]
    }
   ],
   "source": [
    "def outerFunction(text):\n",
    "    text = text\n",
    "    \n",
    "    def innerFunction():\n",
    "        print(\"Inner:\", text)\n",
    "        \n",
    "    return innerFunction # Note we are returning function WITHOUT parenthesis\n",
    " \n",
    "if __name__ == '__main__':\n",
    "    myFunction = outerFunction('Hey!')\n",
    "    myFunction()"
   ]
  },
  {
   "cell_type": "code",
   "execution_count": 59,
   "metadata": {},
   "outputs": [
    {
     "name": "stdout",
     "output_type": "stream",
     "text": [
      "{'outside': 1, 'inside': 2}\n",
      "{'outside': 1, 'inside': 2}\n"
     ]
    }
   ],
   "source": [
    "def outside():\n",
    "    d = {\"outside\": 1}\n",
    "    def inside():\n",
    "        d[\"inside\"] = 2\n",
    "        print(d)\n",
    "    inside()\n",
    "    print(d)\n",
    " \n",
    "outside()"
   ]
  },
  {
   "cell_type": "code",
   "execution_count": 60,
   "metadata": {},
   "outputs": [
    {
     "name": "stdout",
     "output_type": "stream",
     "text": [
      "{'inside': 2}\n",
      "Outside\n",
      "{'outside': 1}\n"
     ]
    }
   ],
   "source": [
    "def outside():\n",
    "        d = {\"outside\": 1}\n",
    "        def inside():\n",
    "            #nonlocal d\n",
    "            d = {\"inside\":2}\n",
    "            print(d)\n",
    "        inside()\n",
    "        print(\"Outside\")\n",
    "        print(d)\n",
    " \n",
    "outside()"
   ]
  },
  {
   "cell_type": "code",
   "execution_count": 61,
   "metadata": {},
   "outputs": [],
   "source": [
    "# HeapQ Code Example 0-\n",
    "\n",
    "import heapq"
   ]
  },
  {
   "cell_type": "code",
   "execution_count": 62,
   "metadata": {},
   "outputs": [
    {
     "data": {
      "text/plain": [
       "[1, 2, 4, 6]"
      ]
     },
     "execution_count": 62,
     "metadata": {},
     "output_type": "execute_result"
    }
   ],
   "source": [
    "heap =[]\n",
    "heapq.heappush(heap,1)\n",
    "heapq.heappush(heap,2)\n",
    "heapq.heappush(heap,4)\n",
    "heapq.heappush(heap,6)\n",
    "heapq.heappush(heap,7)\n",
    "heapq.heappush(heap,9)\n",
    "heapq.heappush(heap,10)\n",
    "heapq.heappush(heap,12) \n",
    "heapq.nsmallest(4, heap)"
   ]
  },
  {
   "cell_type": "code",
   "execution_count": 63,
   "metadata": {},
   "outputs": [],
   "source": [
    "# With Partial code"
   ]
  },
  {
   "cell_type": "code",
   "execution_count": 64,
   "metadata": {},
   "outputs": [
    {
     "data": {
      "text/plain": [
       "[1, 3, 4, 5, 6, 8, 11, 16, 17]"
      ]
     },
     "execution_count": 64,
     "metadata": {},
     "output_type": "execute_result"
    }
   ],
   "source": [
    "import functools\n",
    "import heapq\n",
    "heap =[]\n",
    "push = functools.partial(heapq.heappush, heap)\n",
    "smallest = functools.partial(heapq.nsmallest, iterable=heap)\n",
    "push(1)\n",
    "push(3)\n",
    "push(5)\n",
    "push(6)\n",
    "push(8)\n",
    "push(11)\n",
    "push(4)\n",
    "push(16)\n",
    "push(17)\n",
    "smallest(10)"
   ]
  },
  {
   "cell_type": "code",
   "execution_count": 65,
   "metadata": {},
   "outputs": [
    {
     "data": {
      "text/plain": [
       "[1, 2, 4, 6, 7, 9, 10, 12]"
      ]
     },
     "execution_count": 65,
     "metadata": {},
     "output_type": "execute_result"
    }
   ],
   "source": [
    "heap = []\n",
    "heapq.heappush(heap,1)\n",
    "heapq.heappush(heap,2)\n",
    "heapq.heappush(heap,4)\n",
    "heapq.heappush(heap,6)\n",
    "heapq.heappush(heap,7)\n",
    "heapq.heappush(heap,9)\n",
    "heapq.heappush(heap,10)\n",
    "heapq.heappush(heap,12) \n",
    "heapq.nsmallest(8, heap)"
   ]
  },
  {
   "cell_type": "code",
   "execution_count": 66,
   "metadata": {},
   "outputs": [],
   "source": [
    "# see if you can get izip to work ...."
   ]
  },
  {
   "cell_type": "code",
   "execution_count": 75,
   "metadata": {},
   "outputs": [
    {
     "name": "stdout",
     "output_type": "stream",
     "text": [
      "(1, 2) (2, 3) (4, 5) (6, 7) (7, 11) (9, 13)\n"
     ]
    }
   ],
   "source": [
    "print(*zip(heap, Primes(13)))\n",
    "    "
   ]
  },
  {
   "cell_type": "code",
   "execution_count": 29,
   "metadata": {},
   "outputs": [],
   "source": [
    "from itertools import islice\n",
    "\n",
    "slice = islice(\"ABCDEGF\", 2, None)"
   ]
  },
  {
   "cell_type": "code",
   "execution_count": 16,
   "metadata": {},
   "outputs": [
    {
     "name": "stdout",
     "output_type": "stream",
     "text": [
      "C\n",
      "D\n",
      "E\n",
      "G\n",
      "F\n"
     ]
    }
   ],
   "source": [
    "for x in slice:\n",
    "    print(x)"
   ]
  },
  {
   "cell_type": "code",
   "execution_count": null,
   "metadata": {},
   "outputs": [],
   "source": []
  }
 ],
 "metadata": {
  "kernelspec": {
   "display_name": "Python 3",
   "language": "python",
   "name": "python3"
  },
  "language_info": {
   "codemirror_mode": {
    "name": "ipython",
    "version": 3
   },
   "file_extension": ".py",
   "mimetype": "text/x-python",
   "name": "python",
   "nbconvert_exporter": "python",
   "pygments_lexer": "ipython3",
   "version": "3.6.5"
  }
 },
 "nbformat": 4,
 "nbformat_minor": 2
}

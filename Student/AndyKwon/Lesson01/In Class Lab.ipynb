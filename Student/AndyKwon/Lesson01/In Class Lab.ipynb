{
 "cells": [
  {
   "cell_type": "code",
   "execution_count": 3,
   "metadata": {},
   "outputs": [],
   "source": [
    "## First in class lab"
   ]
  },
  {
   "cell_type": "code",
   "execution_count": 4,
   "metadata": {},
   "outputs": [
    {
     "name": "stdout",
     "output_type": "stream",
     "text": [
      "Enter an interger:5\n",
      "Enter an operand(+, -, *, /):+\n",
      "Enter an interger:2\n",
      "The result is: 7\n"
     ]
    }
   ],
   "source": [
    "OPERATORS = '+', '-', '*', '/'\n",
    "\n",
    "def f_get_number():\n",
    "    return int(input('Enter an interger:'))\n",
    "\n",
    "def f_get_operator():\n",
    "    return input('Enter an operand(+, -, *, /):')\n",
    "\n",
    "\n",
    "def f_calculate(number1, operator, number2):\n",
    "    return number1+number2 if operator == '+'\\\n",
    "        else number1*number2 if operator == '*'\\\n",
    "        else number1-number2 if operator == '-'\\\n",
    "        else number1/number2 if operator == '/'\\\n",
    "        else None\n",
    "\n",
    "\n",
    "def f_main():\n",
    "    \n",
    "    return f_calculate(\n",
    "        f_get_number(),\n",
    "        f_get_operator(),\n",
    "        f_get_number()\n",
    "        )\n",
    "\n",
    "print('The result is: %s' % f_main())"
   ]
  }
 ],
 "metadata": {
  "kernelspec": {
   "display_name": "Python 3",
   "language": "python",
   "name": "python3"
  },
  "language_info": {
   "codemirror_mode": {
    "name": "ipython",
    "version": 3
   },
   "file_extension": ".py",
   "mimetype": "text/x-python",
   "name": "python",
   "nbconvert_exporter": "python",
   "pygments_lexer": "ipython3",
   "version": "3.6.5"
  }
 },
 "nbformat": 4,
 "nbformat_minor": 2
}

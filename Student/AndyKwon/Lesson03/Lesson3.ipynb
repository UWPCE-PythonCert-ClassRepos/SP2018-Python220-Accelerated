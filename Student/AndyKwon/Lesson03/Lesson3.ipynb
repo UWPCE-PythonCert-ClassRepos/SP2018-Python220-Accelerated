{
 "cells": [
  {
   "cell_type": "code",
   "execution_count": null,
   "metadata": {},
   "outputs": [],
   "source": [
    "def add(x,y):\n",
    "        print(\"add func\")\n",
    "        return x+y\n",
    "decorators.add = logged(decorators.add)\n",
    "    ## Same as\n",
    "    \n",
    "\n",
    "@logged\n",
    "def add(x,y):\n",
    "        print(\"add func\")\n",
    "        return x+y\n",
    "\n",
    "    "
   ]
  },
  {
   "cell_type": "code",
   "execution_count": null,
   "metadata": {},
   "outputs": [],
   "source": [
    "## Decorators\n",
    "\n",
    "def null_decorator(func):\n",
    "    return func\n",
    "\n",
    "def greet():\n",
    "    return 'Hello!'\n",
    "\n",
    "greet = null_decorator(greet)"
   ]
  },
  {
   "cell_type": "code",
   "execution_count": null,
   "metadata": {},
   "outputs": [],
   "source": [
    "greet()"
   ]
  },
  {
   "cell_type": "code",
   "execution_count": null,
   "metadata": {},
   "outputs": [],
   "source": [
    "## Above same as this ..\n",
    "\n",
    "@null_decorator\n",
    "def greet():\n",
    "    return 'Hello!'\n"
   ]
  },
  {
   "cell_type": "code",
   "execution_count": null,
   "metadata": {},
   "outputs": [],
   "source": [
    "greet()"
   ]
  },
  {
   "cell_type": "code",
   "execution_count": null,
   "metadata": {},
   "outputs": [],
   "source": [
    "## Decorators\n"
   ]
  },
  {
   "cell_type": "code",
   "execution_count": null,
   "metadata": {},
   "outputs": [],
   "source": [
    "from functools import wraps\n",
    "def nullable(function):\n",
    "    @wraps(function)\n",
    "    def null_wrapper(arg):\n",
    "        return None if arg is None else function(arg)\n",
    "    return null_wrapper"
   ]
  },
  {
   "cell_type": "code",
   "execution_count": null,
   "metadata": {},
   "outputs": [],
   "source": [
    "import math\n",
    "nlog = nullable(math.log)"
   ]
  },
  {
   "cell_type": "code",
   "execution_count": null,
   "metadata": {},
   "outputs": [],
   "source": [
    "some_data = [10, 100, None, 50, 60]"
   ]
  },
  {
   "cell_type": "code",
   "execution_count": null,
   "metadata": {},
   "outputs": [],
   "source": [
    "scaled = map(nlog, some_data) "
   ]
  },
  {
   "cell_type": "code",
   "execution_count": null,
   "metadata": {},
   "outputs": [],
   "source": [
    "list(scaled)"
   ]
  },
  {
   "cell_type": "code",
   "execution_count": null,
   "metadata": {},
   "outputs": [],
   "source": [
    "## Enter Context Manager"
   ]
  },
  {
   "cell_type": "code",
   "execution_count": 2,
   "metadata": {},
   "outputs": [],
   "source": [
    "## Context Manager\n",
    "\n",
    "f = open(\"x.txt\")"
   ]
  },
  {
   "cell_type": "code",
   "execution_count": 3,
   "metadata": {},
   "outputs": [
    {
     "data": {
      "text/plain": [
       "<_io.TextIOWrapper name='x.txt' mode='r' encoding='UTF-8'>"
      ]
     },
     "execution_count": 3,
     "metadata": {},
     "output_type": "execute_result"
    }
   ],
   "source": [
    "f.__enter__()"
   ]
  },
  {
   "cell_type": "code",
   "execution_count": 4,
   "metadata": {},
   "outputs": [
    {
     "data": {
      "text/plain": [
       "''"
      ]
     },
     "execution_count": 4,
     "metadata": {},
     "output_type": "execute_result"
    }
   ],
   "source": [
    "f.read(1)"
   ]
  },
  {
   "cell_type": "code",
   "execution_count": 5,
   "metadata": {},
   "outputs": [],
   "source": [
    "## now lets run exit to the close the file\n",
    "f.__exit__(None, None, None)"
   ]
  },
  {
   "cell_type": "code",
   "execution_count": 6,
   "metadata": {},
   "outputs": [
    {
     "ename": "ValueError",
     "evalue": "I/O operation on closed file.",
     "output_type": "error",
     "traceback": [
      "\u001b[0;31m---------------------------------------------------------------------------\u001b[0m",
      "\u001b[0;31mValueError\u001b[0m                                Traceback (most recent call last)",
      "\u001b[0;32m<ipython-input-6-47a7dfb0df71>\u001b[0m in \u001b[0;36m<module>\u001b[0;34m()\u001b[0m\n\u001b[1;32m      1\u001b[0m \u001b[0;31m## try to read once again\u001b[0m\u001b[0;34m\u001b[0m\u001b[0;34m\u001b[0m\u001b[0m\n\u001b[0;32m----> 2\u001b[0;31m \u001b[0mf\u001b[0m\u001b[0;34m.\u001b[0m\u001b[0mread\u001b[0m\u001b[0;34m(\u001b[0m\u001b[0;36m1\u001b[0m\u001b[0;34m)\u001b[0m\u001b[0;34m\u001b[0m\u001b[0m\n\u001b[0m",
      "\u001b[0;31mValueError\u001b[0m: I/O operation on closed file."
     ]
    }
   ],
   "source": [
    "## try to read once again\n",
    "f.read(1)"
   ]
  },
  {
   "cell_type": "code",
   "execution_count": 7,
   "metadata": {},
   "outputs": [
    {
     "ename": "SyntaxError",
     "evalue": "invalid syntax (<ipython-input-7-c16462b4ded2>, line 7)",
     "output_type": "error",
     "traceback": [
      "\u001b[0;36m  File \u001b[0;32m\"<ipython-input-7-c16462b4ded2>\"\u001b[0;36m, line \u001b[0;32m7\u001b[0m\n\u001b[0;31m    do something with data\u001b[0m\n\u001b[0m               ^\u001b[0m\n\u001b[0;31mSyntaxError\u001b[0m\u001b[0;31m:\u001b[0m invalid syntax\n"
     ]
    }
   ],
   "source": [
    "## Context Manager Summary \n",
    "## so to open a file, process its contents, and make sure to close it, \n",
    "## you can simply do:\n",
    "\n",
    "with open(\"x.txt\") as f:\n",
    "    data = f.read()\n",
    "    do something with data"
   ]
  },
  {
   "cell_type": "code",
   "execution_count": 8,
   "metadata": {},
   "outputs": [
    {
     "data": {
      "text/plain": [
       "True"
      ]
     },
     "execution_count": 8,
     "metadata": {},
     "output_type": "execute_result"
    }
   ],
   "source": [
    "## Acquiring a lock during threading\n",
    "\n",
    "import threading\n",
    "lock=threading.Lock()\n",
    "lock.acquire()"
   ]
  },
  {
   "cell_type": "code",
   "execution_count": 9,
   "metadata": {},
   "outputs": [
    {
     "name": "stdout",
     "output_type": "stream",
     "text": [
      "Use the lock\n"
     ]
    }
   ],
   "source": [
    "print(\"Use the lock\")\n",
    "lock.release()\n",
    "\n",
    "## you acquire a resource, use it and then close it. \n",
    "## but it is easy to close or release the resources\n",
    "## Context Manager\n"
   ]
  },
  {
   "cell_type": "code",
   "execution_count": 11,
   "metadata": {},
   "outputs": [],
   "source": [
    "## Context Manager\n",
    "\n",
    "class Context(object):\n",
    "\n",
    "    def __init__(self, handle_error):\n",
    "        print ('__init__(%s)' % handle_error)\n",
    "        self.handle_error = handle_error\n",
    "    def __enter__(self):\n",
    "        print ('__enter__()')\n",
    "        return self\n",
    "    def __exit__(self, exc_type, exc_val, exc_tb):\n",
    "        print ('__exit__(%s, %s, %s)' % (exc_type, exc_val, exc_tb))\n",
    "        return self.handle_error"
   ]
  },
  {
   "cell_type": "code",
   "execution_count": 14,
   "metadata": {},
   "outputs": [
    {
     "name": "stdout",
     "output_type": "stream",
     "text": [
      "__init__(True)\n",
      "__enter__()\n",
      "This is in the context\n",
      "__exit__(<class 'RuntimeError'>, this is the error message, <traceback object at 0x106b42cc8>)\n"
     ]
    }
   ],
   "source": [
    "with Context(True) as foo:\n",
    "    print ('This is in the context')\n",
    "    ## run once and the uncomment following line\n",
    "    raise RuntimeError('this is the error message')"
   ]
  },
  {
   "cell_type": "code",
   "execution_count": 15,
   "metadata": {},
   "outputs": [
    {
     "name": "stdout",
     "output_type": "stream",
     "text": [
      "__init__(False)\n",
      "__enter__()\n",
      "This is in the context\n",
      "__exit__(<class 'RuntimeError'>, this is the error message, <traceback object at 0x106b42b48>)\n"
     ]
    },
    {
     "ename": "RuntimeError",
     "evalue": "this is the error message",
     "output_type": "error",
     "traceback": [
      "\u001b[0;31m---------------------------------------------------------------------------\u001b[0m",
      "\u001b[0;31mRuntimeError\u001b[0m                              Traceback (most recent call last)",
      "\u001b[0;32m<ipython-input-15-5edf0464a3cb>\u001b[0m in \u001b[0;36m<module>\u001b[0;34m()\u001b[0m\n\u001b[1;32m      7\u001b[0m     \u001b[0mprint\u001b[0m \u001b[0;34m(\u001b[0m\u001b[0;34m'This is in the context'\u001b[0m\u001b[0;34m)\u001b[0m\u001b[0;34m\u001b[0m\u001b[0m\n\u001b[1;32m      8\u001b[0m     \u001b[0;31m## run this with and without commenting following line\u001b[0m\u001b[0;34m\u001b[0m\u001b[0;34m\u001b[0m\u001b[0m\n\u001b[0;32m----> 9\u001b[0;31m     \u001b[0;32mraise\u001b[0m \u001b[0mRuntimeError\u001b[0m\u001b[0;34m(\u001b[0m\u001b[0;34m'this is the error message'\u001b[0m\u001b[0;34m)\u001b[0m\u001b[0;34m\u001b[0m\u001b[0m\n\u001b[0m",
      "\u001b[0;31mRuntimeError\u001b[0m: this is the error message"
     ]
    }
   ],
   "source": [
    "## In the above example your code is bracketed by enter and exit\n",
    "\n",
    "## Because the exit method returns True, the raised error is ‘handled’.\n",
    "## What if we try with False?\n",
    "\n",
    "with Context(False) as foo:\n",
    "    print ('This is in the context')\n",
    "    ## run this with and without commenting following line\n",
    "    raise RuntimeError('this is the error message')"
   ]
  },
  {
   "cell_type": "code",
   "execution_count": null,
   "metadata": {},
   "outputs": [],
   "source": [
    "## contextlib.contextmanager() \n",
    "## will turn a generator function into context manager."
   ]
  },
  {
   "cell_type": "code",
   "execution_count": 16,
   "metadata": {},
   "outputs": [],
   "source": [
    "from contextlib import contextmanager\n",
    "\n",
    "@contextmanager\n",
    "def context(boolean):\n",
    "    print (\"__init__ code here\")\n",
    "    try:\n",
    "        print (\"__enter__ code goes here\")\n",
    "        yield object()\n",
    "    except Exception as e:\n",
    "        print (\"errors handled here\")\n",
    "        if not boolean:\n",
    "            raise\n",
    "    finally:\n",
    "        print (\"__exit__ cleanup goes here\")\n"
   ]
  },
  {
   "cell_type": "code",
   "execution_count": 17,
   "metadata": {},
   "outputs": [
    {
     "name": "stdout",
     "output_type": "stream",
     "text": [
      "b'<!doctype html>\\n<html>\\n<head>\\n    <title>Example Domain</title>\\n\\n    <meta charset=\"utf-8\" />\\n    <meta http-equiv=\"Content-type\" content=\"text/html; charset=utf-8\" />\\n    <meta name=\"viewport\" content=\"width=device-width, initial-scale=1\" />\\n    <style type=\"text/css\">\\n    body {\\n        background-color: #f0f0f2;\\n        margin: 0;\\n        padding: 0;\\n        font-family: \"Open Sans\", \"Helvetica Neue\", Helvetica, Arial, sans-serif;\\n        \\n    }\\n    div {\\n        width: 600px;\\n        margin: 5em auto;\\n        padding: 50px;\\n        background-color: #fff;\\n        border-radius: 1em;\\n    }\\n    a:link, a:visited {\\n        color: #38488f;\\n        text-decoration: none;\\n    }\\n    @media (max-width: 700px) {\\n        body {\\n            background-color: #fff;\\n        }\\n        div {\\n            width: auto;\\n            margin: 0 auto;\\n            border-radius: 0;\\n            padding: 1em;\\n        }\\n    }\\n    </style>    \\n</head>\\n\\n<body>\\n<div>\\n    <h1>Example Domain</h1>\\n    <p>This domain is established to be used for illustrative examples in documents. You may use this\\n    domain in examples without prior coordination or asking for permission.</p>\\n    <p><a href=\"http://www.iana.org/domains/example\">More information...</a></p>\\n</div>\\n</body>\\n</html>\\n'\n"
     ]
    }
   ],
   "source": [
    "import contextlib\n",
    "import http.client\n",
    "with contextlib.closing(\n",
    "  http.client.HTTPConnection(\"www.example.com\")) as host:\n",
    "    host.request(\"GET\", \"/path/to/resources/12345/\")\n",
    "    response= host.getresponse()\n",
    "    print(response.read())"
   ]
  },
  {
   "cell_type": "code",
   "execution_count": 21,
   "metadata": {},
   "outputs": [
    {
     "name": "stdout",
     "output_type": "stream",
     "text": [
      "Entered\n",
      "Closed\n",
      "Start of Function\n",
      "Entered\n",
      "Closed\n",
      "End of Function\n",
      "Entered\n",
      "EOF\n"
     ]
    }
   ],
   "source": [
    "from __future__ import print_function\n",
    "import contextlib\n",
    "\n",
    "@contextlib.contextmanager\n",
    "def manager():\n",
    "    \"\"\"Easiest way to get a custom context manager...\"\"\"\n",
    "    try:\n",
    "        print('Entered')\n",
    "        yield\n",
    "    finally:\n",
    "        print('Closed')\n",
    "\n",
    "\n",
    "def gen():\n",
    "    \"\"\"Just a generator with a context manager inside.\n",
    "\n",
    "    When the context is entered, we'll see \"Entered\" on the console\n",
    "    and when exited, we'll see \"Closed\" on the console.\n",
    "    \"\"\"\n",
    "    man = manager()\n",
    "    with man:\n",
    "        for i in range(10):\n",
    "            yield i\n",
    "\n",
    "\n",
    "# Test what happens when we consume a generator.\n",
    "list(gen())\n",
    "\n",
    "def fn():\n",
    "    g = gen()\n",
    "    next(g)\n",
    "    # g.close()\n",
    "\n",
    "# Test what happens when the generator gets garbage collected inside\n",
    "# a function\n",
    "print('Start of Function')\n",
    "fn()\n",
    "print('End of Function')\n",
    "\n",
    "# Test what happens when a generator gets garbage collected outside\n",
    "# a function.  IIRC, this isn't _guaranteed_ to happen in all cases.\n",
    "g = gen()\n",
    "next(g)\n",
    "# g.close()\n",
    "print('EOF')"
   ]
  },
  {
   "cell_type": "code",
   "execution_count": 20,
   "metadata": {},
   "outputs": [
    {
     "name": "stdout",
     "output_type": "stream",
     "text": [
      "Back to normal stdout again\n"
     ]
    }
   ],
   "source": [
    "## Context Manager Examples - Advanced Usecase. \n",
    "## yield without argument is semantically equivalent to yield None\n",
    "\n",
    "from contextlib import contextmanager\n",
    "import sys\n",
    "\n",
    "@contextmanager\n",
    "def redirected(**kwds):\n",
    "    stream_names = [\"stdin\", \"stdout\", \"stderr\"]\n",
    "    old_streams = {}\n",
    "    try:\n",
    "        for sname in stream_names:\n",
    "            stream = kwds.get(sname, None)\n",
    "            if stream is not None and stream != getattr(sys, sname):\n",
    "                old_streams[sname] = getattr(sys, sname)\n",
    "                setattr(sys, sname, stream)\n",
    "        yield\n",
    "    finally:\n",
    "        for sname, stream in old_streams.items():\n",
    "            setattr(sys, sname, stream)\n",
    "\n",
    "with redirected(stdout=open(\"./uw-py220-log-context-mgr.txt\", \"w\")):\n",
    "     # these print statements will go to /tmp/log.txt\n",
    "     print (\"Test entry 1\")\n",
    "     print (\"Test entry 2\")\n",
    "# back to the normal stdout\n",
    "print (\"Back to normal stdout again\")"
   ]
  },
  {
   "cell_type": "code",
   "execution_count": null,
   "metadata": {},
   "outputs": [],
   "source": [
    "## Yield in Context Manager\n",
    "\n",
    "yield expression returns control to the whatever is using the generator. \n",
    "The generator pauses at this point, which means that the @contextmanager \n",
    "decorator knows that the code is done with the setup part.\n",
    "\n",
    "In other words, everything you want to do in the context manager __enter__ \n",
    "phase has to take place before the yield.\n",
    "\n",
    "Once your context exits (so the block under the with statement is done), \n",
    "the @contextmanager decorator is called for the __exit__ part of the \n",
    "context manager protocol and will do one of two things:\n",
    "\n",
    "If there was no exception, it'll resume your generator. So your generator \n",
    "unpauses at the yield line, and you enter the cleanup phase, the part\n",
    "\n",
    "If there was an exception, the decorator uses generator.throw() to raise \n",
    "that exception in the generator. It'll be as if the yield line caused \n",
    "that exception. Because you have a finally clause, it'll be executed \n",
    "before your generator exits because of the exception."
   ]
  },
  {
   "cell_type": "code",
   "execution_count": null,
   "metadata": {},
   "outputs": [],
   "source": [
    "## Recursion\n",
    "\n",
    "## Recursion to use up all stack space. \n",
    "## RuntimeError: maximum recursion depth exceeded\n"
   ]
  },
  {
   "cell_type": "code",
   "execution_count": null,
   "metadata": {},
   "outputs": [],
   "source": [
    "def f():\n",
    "    print(\"Hello\")\n",
    "    f()\n",
    "\n",
    "f()"
   ]
  },
  {
   "cell_type": "code",
   "execution_count": null,
   "metadata": {},
   "outputs": [],
   "source": []
  }
 ],
 "metadata": {
  "kernelspec": {
   "display_name": "Python 3",
   "language": "python",
   "name": "python3"
  },
  "language_info": {
   "codemirror_mode": {
    "name": "ipython",
    "version": 3
   },
   "file_extension": ".py",
   "mimetype": "text/x-python",
   "name": "python",
   "nbconvert_exporter": "python",
   "pygments_lexer": "ipython3",
   "version": "3.6.5"
  }
 },
 "nbformat": 4,
 "nbformat_minor": 2
}

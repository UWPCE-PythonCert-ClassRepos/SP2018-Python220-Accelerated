{
 "cells": [
  {
   "cell_type": "code",
   "execution_count": 21,
   "metadata": {},
   "outputs": [],
   "source": [
    "import heapq\n",
    "heap = []\n",
    "heapq.heappush(heap,1)\n",
    "heapq.heappush(heap,2)\n",
    "heapq.heappush(heap,4)\n",
    "heapq.heappush(heap,5)\n",
    "heapq.heappush(heap,7)\n",
    "heapq.heappush(heap,8)\n",
    "heapq.heappush(heap,9)\n",
    "heapq.heappush(heap,12)\n",
    "heapq.heappush(heap,14)"
   ]
  },
  {
   "cell_type": "code",
   "execution_count": 20,
   "metadata": {},
   "outputs": [
    {
     "data": {
      "text/plain": [
       "[1, 1, 2, 2]"
      ]
     },
     "execution_count": 20,
     "metadata": {},
     "output_type": "execute_result"
    }
   ],
   "source": [
    "heapq.nsmallest(4,heap)"
   ]
  },
  {
   "cell_type": "code",
   "execution_count": 5,
   "metadata": {},
   "outputs": [],
   "source": [
    "import functools\n",
    "import heapq\n",
    "heap = []\n",
    "push = functools.partial(heapq.heappush, heap)"
   ]
  },
  {
   "cell_type": "code",
   "execution_count": 6,
   "metadata": {},
   "outputs": [],
   "source": [
    "smallest = functools.partial(heapq.nsmallest, iterable=heap)"
   ]
  },
  {
   "cell_type": "code",
   "execution_count": 12,
   "metadata": {},
   "outputs": [],
   "source": [
    "push = functools.partial(heapq.heappush, heap)\n",
    "push(1)\n",
    "push(2)\n",
    "push(3)\n",
    "push(4)\n",
    "push(55)\n",
    "push(6)\n",
    "push(8)\n",
    "push(10)\n",
    "push(11)\n",
    "\n"
   ]
  },
  {
   "cell_type": "code",
   "execution_count": 14,
   "metadata": {},
   "outputs": [
    {
     "data": {
      "text/plain": [
       "[1, 1, 1, 2, 2, 2, 3, 3, 3, 4]"
      ]
     },
     "execution_count": 14,
     "metadata": {},
     "output_type": "execute_result"
    }
   ],
   "source": [
    "smallest(10)"
   ]
  },
  {
   "cell_type": "code",
   "execution_count": 27,
   "metadata": {},
   "outputs": [],
   "source": [
    "x= zip((1,2,3))"
   ]
  },
  {
   "cell_type": "code",
   "execution_count": 35,
   "metadata": {},
   "outputs": [],
   "source": [
    "from itertools import islice"
   ]
  },
  {
   "cell_type": "code",
   "execution_count": 68,
   "metadata": {},
   "outputs": [],
   "source": [
    "myslice=islice('ABCDEFG', 2,5)"
   ]
  },
  {
   "cell_type": "code",
   "execution_count": 71,
   "metadata": {},
   "outputs": [
    {
     "data": {
      "text/plain": [
       "<itertools.islice at 0x106c5adb8>"
      ]
     },
     "execution_count": 71,
     "metadata": {},
     "output_type": "execute_result"
    }
   ],
   "source": [
    "iter(myslice)"
   ]
  },
  {
   "cell_type": "code",
   "execution_count": null,
   "metadata": {},
   "outputs": [],
   "source": []
  },
  {
   "cell_type": "code",
   "execution_count": 73,
   "metadata": {},
   "outputs": [],
   "source": [
    "from string import ascii_lowercase"
   ]
  },
  {
   "cell_type": "code",
   "execution_count": 74,
   "metadata": {},
   "outputs": [],
   "source": [
    "myletters = [letter for letter in ascii_lowercase]"
   ]
  },
  {
   "cell_type": "code",
   "execution_count": 75,
   "metadata": {},
   "outputs": [
    {
     "name": "stdout",
     "output_type": "stream",
     "text": [
      "['a', 'b', 'c', 'd', 'e', 'f', 'g', 'h', 'i', 'j', 'k', 'l', 'm', 'n', 'o', 'p', 'q', 'r', 's', 't', 'u', 'v', 'w', 'x', 'y', 'z']\n"
     ]
    }
   ],
   "source": [
    "print(myletters)"
   ]
  },
  {
   "cell_type": "code",
   "execution_count": 76,
   "metadata": {},
   "outputs": [],
   "source": [
    "mynumbers = [number for number in range(len(myletters))]"
   ]
  },
  {
   "cell_type": "code",
   "execution_count": 77,
   "metadata": {},
   "outputs": [
    {
     "name": "stdout",
     "output_type": "stream",
     "text": [
      "[0, 1, 2, 3, 4, 5, 6, 7, 8, 9, 10, 11, 12, 13, 14, 15, 16, 17, 18, 19, 20, 21, 22, 23, 24, 25]\n"
     ]
    }
   ],
   "source": [
    "print(mynumbers)"
   ]
  },
  {
   "cell_type": "code",
   "execution_count": 78,
   "metadata": {},
   "outputs": [],
   "source": [
    "mychain = chain(myletters, mynumbers)"
   ]
  },
  {
   "cell_type": "code",
   "execution_count": 79,
   "metadata": {},
   "outputs": [
    {
     "name": "stdout",
     "output_type": "stream",
     "text": [
      "<itertools.chain object at 0x106c820f0>\n"
     ]
    }
   ],
   "source": [
    "print(mychain)"
   ]
  },
  {
   "cell_type": "code",
   "execution_count": 80,
   "metadata": {},
   "outputs": [
    {
     "name": "stdout",
     "output_type": "stream",
     "text": [
      "a b c d e f g h i j k l m n o p q r s t u v w x y z 0 1 2 3 4 5 6 7 8 9 10 11 12 13 14 15 16 17 18 19 20 21 22 23 24 25\n"
     ]
    }
   ],
   "source": [
    "print(*mychain)"
   ]
  },
  {
   "cell_type": "code",
   "execution_count": 81,
   "metadata": {},
   "outputs": [
    {
     "name": "stdout",
     "output_type": "stream",
     "text": [
      "\n"
     ]
    }
   ],
   "source": [
    "print(*mychain)"
   ]
  },
  {
   "cell_type": "code",
   "execution_count": 82,
   "metadata": {},
   "outputs": [],
   "source": [
    "mychain = chain(myletters, mynumbers)"
   ]
  },
  {
   "cell_type": "code",
   "execution_count": 83,
   "metadata": {},
   "outputs": [
    {
     "data": {
      "text/plain": [
       "'a'"
      ]
     },
     "execution_count": 83,
     "metadata": {},
     "output_type": "execute_result"
    }
   ],
   "source": [
    "next(mychain)"
   ]
  },
  {
   "cell_type": "code",
   "execution_count": 84,
   "metadata": {},
   "outputs": [],
   "source": [
    "from itertools import count"
   ]
  },
  {
   "cell_type": "code",
   "execution_count": 85,
   "metadata": {},
   "outputs": [],
   "source": [
    "mychain = chain(myletters, mynumbers)"
   ]
  },
  {
   "cell_type": "code",
   "execution_count": 86,
   "metadata": {},
   "outputs": [
    {
     "name": "stdout",
     "output_type": "stream",
     "text": [
      "<zip object at 0x106c4b9c8>\n"
     ]
    }
   ],
   "source": [
    "print (zip(count(), mychain))"
   ]
  },
  {
   "cell_type": "code",
   "execution_count": 87,
   "metadata": {},
   "outputs": [
    {
     "name": "stdout",
     "output_type": "stream",
     "text": [
      "(0, 'a') (1, 'b') (2, 'c') (3, 'd') (4, 'e') (5, 'f') (6, 'g') (7, 'h') (8, 'i') (9, 'j') (10, 'k') (11, 'l') (12, 'm') (13, 'n') (14, 'o') (15, 'p') (16, 'q') (17, 'r') (18, 's') (19, 't') (20, 'u') (21, 'v') (22, 'w') (23, 'x') (24, 'y') (25, 'z') (26, 0) (27, 1) (28, 2) (29, 3) (30, 4) (31, 5) (32, 6) (33, 7) (34, 8) (35, 9) (36, 10) (37, 11) (38, 12) (39, 13) (40, 14) (41, 15) (42, 16) (43, 17) (44, 18) (45, 19) (46, 20) (47, 21) (48, 22) (49, 23) (50, 24) (51, 25)\n"
     ]
    }
   ],
   "source": [
    "print(*zip(count(), mychain))"
   ]
  },
  {
   "cell_type": "code",
   "execution_count": 90,
   "metadata": {},
   "outputs": [
    {
     "name": "stdout",
     "output_type": "stream",
     "text": [
      "(100, 'a') (101, 'b') (102, 'c') (103, 'd') (104, 'e') (105, 'f') (106, 'g') (107, 'h') (108, 'i') (109, 'j') (110, 'k') (111, 'l') (112, 'm') (113, 'n') (114, 'o') (115, 'p') (116, 'q') (117, 'r') (118, 's') (119, 't') (120, 'u') (121, 'v') (122, 'w') (123, 'x') (124, 'y') (125, 'z') (126, 0) (127, 1) (128, 2) (129, 3) (130, 4) (131, 5) (132, 6) (133, 7) (134, 8) (135, 9) (136, 10) (137, 11) (138, 12) (139, 13) (140, 14) (141, 15) (142, 16) (143, 17) (144, 18) (145, 19) (146, 20) (147, 21) (148, 22) (149, 23) (150, 24) (151, 25)\n"
     ]
    }
   ],
   "source": [
    "mychain = chain(myletters, mynumbers)\n",
    "print(*zip(count(100), mychain))"
   ]
  },
  {
   "cell_type": "code",
   "execution_count": 91,
   "metadata": {},
   "outputs": [
    {
     "name": "stdout",
     "output_type": "stream",
     "text": [
      "(100, 'a') (110, 'b') (120, 'c') (130, 'd') (140, 'e') (150, 'f') (160, 'g') (170, 'h') (180, 'i') (190, 'j') (200, 'k') (210, 'l') (220, 'm') (230, 'n') (240, 'o') (250, 'p') (260, 'q') (270, 'r') (280, 's') (290, 't') (300, 'u') (310, 'v') (320, 'w') (330, 'x') (340, 'y') (350, 'z') (360, 0) (370, 1) (380, 2) (390, 3) (400, 4) (410, 5) (420, 6) (430, 7) (440, 8) (450, 9) (460, 10) (470, 11) (480, 12) (490, 13) (500, 14) (510, 15) (520, 16) (530, 17) (540, 18) (550, 19) (560, 20) (570, 21) (580, 22) (590, 23) (600, 24) (610, 25)\n"
     ]
    }
   ],
   "source": [
    "mychain = chain(myletters, mynumbers)\n",
    "print(*zip(count(100, 10), mychain))"
   ]
  },
  {
   "cell_type": "code",
   "execution_count": 92,
   "metadata": {},
   "outputs": [
    {
     "name": "stdout",
     "output_type": "stream",
     "text": [
      "(0, 'a') (1, 'b') (2, 'c') (3, 'd') (4, 'e') (5, 'f') (6, 'g') (7, 'h') (8, 'i') (9, 'j') (10, 'k') (11, 'l') (12, 'm') (13, 'n') (14, 'o') (15, 'p') (16, 'q') (17, 'r') (18, 's') (19, 't') (20, 'u') (21, 'v') (22, 'w') (23, 'x') (24, 'y') (25, 'z') (26, 0) (27, 1) (28, 2) (29, 3) (30, 4) (31, 5) (32, 6) (33, 7) (34, 8) (35, 9) (36, 10) (37, 11) (38, 12) (39, 13) (40, 14) (41, 15) (42, 16) (43, 17) (44, 18) (45, 19) (46, 20) (47, 21) (48, 22) (49, 23) (50, 24) (51, 25)\n"
     ]
    }
   ],
   "source": [
    "mychain = chain(myletters, mynumbers)\n",
    "print(*enumerate(mychain))"
   ]
  },
  {
   "cell_type": "code",
   "execution_count": 93,
   "metadata": {},
   "outputs": [
    {
     "name": "stdout",
     "output_type": "stream",
     "text": [
      "(100, 'a') (101, 'b') (102, 'c') (103, 'd') (104, 'e') (105, 'f') (106, 'g') (107, 'h') (108, 'i') (109, 'j') (110, 'k') (111, 'l') (112, 'm') (113, 'n') (114, 'o') (115, 'p') (116, 'q') (117, 'r') (118, 's') (119, 't') (120, 'u') (121, 'v') (122, 'w') (123, 'x') (124, 'y') (125, 'z') (126, 0) (127, 1) (128, 2) (129, 3) (130, 4) (131, 5) (132, 6) (133, 7) (134, 8) (135, 9) (136, 10) (137, 11) (138, 12) (139, 13) (140, 14) (141, 15) (142, 16) (143, 17) (144, 18) (145, 19) (146, 20) (147, 21) (148, 22) (149, 23) (150, 24) (151, 25)\n"
     ]
    }
   ],
   "source": [
    "mychain = chain(myletters, mynumbers)\n",
    "print(*enumerate(mychain, 100))"
   ]
  },
  {
   "cell_type": "code",
   "execution_count": 94,
   "metadata": {},
   "outputs": [],
   "source": [
    "from itertools import tee"
   ]
  },
  {
   "cell_type": "code",
   "execution_count": 95,
   "metadata": {},
   "outputs": [],
   "source": [
    "tee?"
   ]
  },
  {
   "cell_type": "code",
   "execution_count": 96,
   "metadata": {},
   "outputs": [],
   "source": [
    "mychain1, mychain2 = tee(chain(myletters, mynumbers))"
   ]
  },
  {
   "cell_type": "code",
   "execution_count": 97,
   "metadata": {},
   "outputs": [
    {
     "name": "stdout",
     "output_type": "stream",
     "text": [
      "a b c d e f g h i j k l m n o p q r s t u v w x y z 0 1 2 3 4 5 6 7 8 9 10 11 12 13 14 15 16 17 18 19 20 21 22 23 24 25\n"
     ]
    }
   ],
   "source": [
    "print(*mychain1)"
   ]
  },
  {
   "cell_type": "code",
   "execution_count": 98,
   "metadata": {},
   "outputs": [
    {
     "name": "stdout",
     "output_type": "stream",
     "text": [
      "a b c d e f g h i j k l m n o p q r s t u v w x y z 0 1 2 3 4 5 6 7 8 9 10 11 12 13 14 15 16 17 18 19 20 21 22 23 24 25\n"
     ]
    }
   ],
   "source": [
    "print(*mychain2)"
   ]
  },
  {
   "cell_type": "code",
   "execution_count": null,
   "metadata": {},
   "outputs": [],
   "source": []
  }
 ],
 "metadata": {
  "kernelspec": {
   "display_name": "Python 3",
   "language": "python",
   "name": "python3"
  },
  "language_info": {
   "codemirror_mode": {
    "name": "ipython",
    "version": 3
   },
   "file_extension": ".py",
   "mimetype": "text/x-python",
   "name": "python",
   "nbconvert_exporter": "python",
   "pygments_lexer": "ipython3",
   "version": "3.6.4"
  }
 },
 "nbformat": 4,
 "nbformat_minor": 2
}

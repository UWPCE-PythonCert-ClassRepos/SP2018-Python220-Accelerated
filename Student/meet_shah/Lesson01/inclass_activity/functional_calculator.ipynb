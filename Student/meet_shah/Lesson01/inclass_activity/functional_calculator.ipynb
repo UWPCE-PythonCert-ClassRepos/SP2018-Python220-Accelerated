{
 "cells": [
  {
   "cell_type": "code",
   "execution_count": 8,
   "metadata": {},
   "outputs": [
    {
     "name": "stdout",
     "output_type": "stream",
     "text": [
      "Enter an integer:22\n",
      "Enter an operator(+, -, *, /):+\n",
      "Enter an integer:2\n",
      "The result is: 24\n"
     ]
    }
   ],
   "source": [
    "OPERATORS = '+', '-', '*', '/'\n",
    "\n",
    "def f_get_number():\n",
    "    return int(input(\"Enter an integer:\"))\n",
    "\n",
    "def f_get_operator():\n",
    "    return input('Enter an operator(+, -, *, /):')\n",
    "\n",
    "def f_calculate(number1, operator, number2):\n",
    "    return number1 + number2 if operator == '+'\\\n",
    "        else number1-number2 if operator == '-'\\\n",
    "        else number1*number2 if operator == '*'\\\n",
    "        else number1/number2 if operator == '/' \\\n",
    "        else None\n",
    "        \n",
    "def f_main():\n",
    "    return f_calculate(f_get_number(),\n",
    "                       f_get_operator(), \n",
    "                       f_get_number())\n",
    "    \n",
    "print ('The result is: %s' %f_main())"
   ]
  },
  {
   "cell_type": "markdown",
   "metadata": {},
   "source": [
    "# "
   ]
  }
 ],
 "metadata": {
  "kernelspec": {
   "display_name": "Python 3",
   "language": "python",
   "name": "python3"
  },
  "language_info": {
   "codemirror_mode": {
    "name": "ipython",
    "version": 3
   },
   "file_extension": ".py",
   "mimetype": "text/x-python",
   "name": "python",
   "nbconvert_exporter": "python",
   "pygments_lexer": "ipython3",
   "version": "3.6.5"
  }
 },
 "nbformat": 4,
 "nbformat_minor": 2
}

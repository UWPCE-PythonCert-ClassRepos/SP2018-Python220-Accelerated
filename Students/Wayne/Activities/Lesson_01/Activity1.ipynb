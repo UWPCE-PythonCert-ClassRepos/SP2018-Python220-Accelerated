{
 "cells": [
  {
   "cell_type": "markdown",
   "metadata": {},
   "source": [
    "# Iterators and Iterables"
   ]
  },
  {
   "cell_type": "code",
   "execution_count": 1,
   "metadata": {},
   "outputs": [],
   "source": [
    "class IterateMe_1:\n",
    "    \"\"\"\n",
    "    About as simple an iterator as you can get:\n",
    "\n",
    "    returns the sequence of numbers from zero to 4\n",
    "    ( like range(4) )\n",
    "    \"\"\"\n",
    "\n",
    "    def __init__(self, stop=10):\n",
    "        self.current = -1\n",
    "        self.stop = stop\n",
    "\n",
    "    def __iter__(self):\n",
    "        return self\n",
    "\n",
    "    def __next__(self):\n",
    "        self.current += 1\n",
    "        if self.current < self.stop:\n",
    "            return self.current\n",
    "        else:\n",
    "            raise StopIteration\n",
    "\n",
    "\n",
    "class IterateMe_2:\n",
    "\n",
    "    def __init__(self, start, stop, step):\n",
    "        self.current = start - step\n",
    "        self.stop = stop\n",
    "        self.start = start\n",
    "        self.step = step\n",
    "\n",
    "    def __iter__(self):\n",
    "        return self\n",
    "\n",
    "    def __next__(self):\n",
    "        self.current += self.step\n",
    "        if self.current < self.stop:\n",
    "            return self.current\n",
    "        else:\n",
    "            raise StopIteration\n",
    "\n",
    "\n",
    "it = IterateMe_2(2, 20, 2)\n",
    "for i in it:\n",
    "    if i > 10:  break\n",
    "\n",
    "\n",
    "def rng():\n",
    "    print(\"Range function\")\n",
    "    for i in range(2, 20, 2):\n",
    "        print(i)\n"
   ]
  },
  {
   "cell_type": "code",
   "execution_count": 2,
   "metadata": {},
   "outputs": [
    {
     "name": "stdout",
     "output_type": "stream",
     "text": [
      "Testing the iterator\n",
      "0\n",
      "1\n",
      "2\n",
      "3\n",
      "4\n",
      "5\n",
      "6\n",
      "7\n",
      "8\n",
      "9\n",
      "Testing the IT iterator\n",
      "14\n",
      "16\n",
      "18\n",
      "Range function\n",
      "2\n",
      "4\n",
      "6\n",
      "8\n",
      "10\n",
      "12\n",
      "14\n",
      "16\n",
      "18\n"
     ]
    }
   ],
   "source": [
    "if __name__ == \"__main__\":\n",
    "\n",
    "    print(\"Testing the iterator\")\n",
    "    for i in IterateMe_1():\n",
    "        print(i)\n",
    "\n",
    "    print(\"Testing the IT iterator\")\n",
    "    for i in it:\n",
    "        print(i)\n",
    "\n",
    "rng()"
   ]
  },
  {
   "cell_type": "markdown",
   "metadata": {},
   "source": [
    "is range an iterator or an iteratable? Range is an interables, because you cannot call next on range. An iterator will change the state of the objects in the sequence."
   ]
  },
  {
   "cell_type": "markdown",
   "metadata": {},
   "source": [
    "# GENERATOR"
   ]
  },
  {
   "cell_type": "markdown",
   "metadata": {},
   "source": [
    "Sum of the integers:\n",
    "\n",
    "keep adding the next integer\n",
    "\n",
    "0 + 1 + 2 + 3 + 4 + 5 + …\n",
    "\n",
    "so the sequence is:\n",
    "\n",
    "0, 1, 3, 6, 10, 15 ….."
   ]
  },
  {
   "cell_type": "code",
   "execution_count": null,
   "metadata": {},
   "outputs": [],
   "source": [
    "def sum_fun():\n",
    "        for n in range(1,6,1):\n",
    "            yield n*(n+1)/2\n",
    "            \n",
    "sum_it = (sum_fun())"
   ]
  },
  {
   "cell_type": "code",
   "execution_count": null,
   "metadata": {},
   "outputs": [],
   "source": [
    "list(sum_it)"
   ]
  },
  {
   "cell_type": "markdown",
   "metadata": {},
   "source": [
    "Doubler:\n",
    "\n",
    "Each value is double the previous value:\n",
    "\n",
    "1, 2, 4, 8, 16, 32,"
   ]
  },
  {
   "cell_type": "code",
   "execution_count": null,
   "metadata": {},
   "outputs": [],
   "source": [
    "def doubler():\n",
    "        for n in range(1,7,1):\n",
    "            yield (n+1)*2\n",
    "            \n",
    "        \n",
    "double_it = (doubler())"
   ]
  },
  {
   "cell_type": "code",
   "execution_count": null,
   "metadata": {},
   "outputs": [],
   "source": [
    "list(double_it)"
   ]
  },
  {
   "cell_type": "markdown",
   "metadata": {},
   "source": [
    "Fibonacci sequence:\n",
    "    \n",
    "The Fibonacci sequence as a generator:\n",
    "\n",
    "f(n) = f(n-1) + f(n-2)\n",
    "\n",
    "1, 1, 2, 3, 5, 8, 13, 21, 34…"
   ]
  },
  {
   "cell_type": "markdown",
   "metadata": {},
   "source": [
    "Generate the prime numbers (numbers only divisible by them self and 1):\n",
    "\n",
    "2, 3, 5, 7, 11, 13, 17, 19, 23…"
   ]
  },
  {
   "cell_type": "markdown",
   "metadata": {},
   "source": [
    "# Calculator Exercise\n"
   ]
  },
  {
   "cell_type": "markdown",
   "metadata": {},
   "source": [
    "This is the functional vs imperative exervise"
   ]
  },
  {
   "cell_type": "code",
   "execution_count": null,
   "metadata": {},
   "outputs": [],
   "source": [
    "OPERATORS = '+', '-', '*', '/'\n",
    "\n",
    "\n",
    "def p_main():\n",
    "   \n",
    "   \"\"\"The main flow.\"\"\"\n",
    "\n",
    "   print('Welcome to the barely functional calculator!')\n",
    "   number1 = p_get_number()\n",
    "   operator = p_get_operator()\n",
    "   number2 = p_get_number()\n",
    "   result = p_calculate(number1, operator, number2)\n",
    "   print('The result is: %s' % result)\n",
    "\n",
    "\n",
    "def p_get_number():\n",
    "   \n",
    "   \"\"\"Reads an integer from the standard input and returns it.\n",
    "   If a non-integer value is entered, a warning is printed,\n",
    "   and a new value is read.\"\"\"\n",
    "           \n",
    "   while True:\n",
    "       s = input('Enter an integer: ')\n",
    "       try:\n",
    "           return int(s)\n",
    "       except ValueError:\n",
    "           print('That is not an integer!')\n",
    "           \n",
    "\n",
    "def p_get_operator():\n",
    "   \n",
    "   \"\"\"Reads an operator from the standard input and returns it.\n",
    "   Valid operators are: +, -, *, and /. If an invalid operator\n",
    "   is entered, a warning is printed, and a new value is read.\"\"\"    \n",
    "   \n",
    "   while True:\n",
    "       s = input('Enter an operator (+, -, *, or /): ')\n",
    "       if s in OPERATORS:\n",
    "           return s\n",
    "       print('That is not an operator!')\n",
    "           \n",
    "           \n",
    "def p_calculate(number1, operator, number2):\n",
    "   \n",
    "   \"\"\"Performs a calculation with two numbers and an operator,\n",
    "   and returns the result.\"\"\"\n",
    "   \n",
    "   if operator == '+':\n",
    "       return number1 + number2\n",
    "   if operator == '-':\n",
    "       return number1 - number2\n",
    "   if operator == '*':\n",
    "       return number1 * number2\n",
    "   if operator == '/':\n",
    "       return number1 / number2\n",
    "   raise Exception('Invalid operator!')\n",
    "\n",
    "   \n",
    "p_main()"
   ]
  },
  {
   "cell_type": "code",
   "execution_count": null,
   "metadata": {},
   "outputs": [],
   "source": [
    "OPERATORS = '+', '-', '*', '/'\n",
    "\n",
    "def f_get_number():\n",
    "    return int(input('Enter an integer:'))\n",
    "\n",
    "\n",
    "def f_get_operator():\n",
    "    return input('Enter an operator(+,-,*,/):')\n",
    "\n",
    "\n",
    "def f_calculate(number1, operator, number2) :\n",
    "    return number1+number2 if operator == '+' \\\n",
    "        else number1*number2 if operator == \"*\"\\\n",
    "        else number1-number2 if operator == '-'\\\n",
    "        else number1/number2 if operator == '/'\\\n",
    "        else None\n",
    "\n",
    "\n",
    "def f_main():\n",
    "    return f_calculate(\n",
    "        f_get_number(),\n",
    "        f_get_operator(),\n",
    "        f_get_number()\n",
    "        )\n",
    "print('the result is :%s' % f_main())\n",
    "\n",
    "                "
   ]
  },
  {
   "cell_type": "markdown",
   "metadata": {},
   "source": [
    "# Comprehensions"
   ]
  },
  {
   "cell_type": "code",
   "execution_count": null,
   "metadata": {},
   "outputs": [],
   "source": [
    "list(range(10))"
   ]
  },
  {
   "cell_type": "code",
   "execution_count": null,
   "metadata": {},
   "outputs": [],
   "source": [
    "for x in range(10):\n",
    "    print (x)"
   ]
  },
  {
   "cell_type": "markdown",
   "metadata": {},
   "source": [
    "# MAP"
   ]
  },
  {
   "cell_type": "code",
   "execution_count": null,
   "metadata": {},
   "outputs": [],
   "source": [
    "items = [1, 2, 3, 4, 5]\n",
    "squared = list(map(lambda x: x**2, items))\n",
    "print(squared)"
   ]
  },
  {
   "cell_type": "markdown",
   "metadata": {},
   "source": [
    "# Filter"
   ]
  },
  {
   "cell_type": "code",
   "execution_count": null,
   "metadata": {},
   "outputs": [],
   "source": [
    "number_list = range(-10, 10)\n",
    "less_than_zero = list(filter(lambda x: x < 0, number_list))\n",
    "print(less_than_zero)"
   ]
  },
  {
   "cell_type": "code",
   "execution_count": null,
   "metadata": {},
   "outputs": [],
   "source": [
    "number_list = range(-10, 10)\n",
    "less_than_zero = list(filter(lambda x: x > 0, number_list))\n",
    "print(less_than_zero)"
   ]
  },
  {
   "cell_type": "code",
   "execution_count": null,
   "metadata": {},
   "outputs": [],
   "source": [
    "l = [2,3,4,5,6,8,9,10,11,12]\n",
    "list(filter(lambda x: not x%2, l))"
   ]
  },
  {
   "cell_type": "markdown",
   "metadata": {},
   "source": [
    "# Reduce"
   ]
  },
  {
   "cell_type": "code",
   "execution_count": null,
   "metadata": {},
   "outputs": [],
   "source": [
    "from functools import reduce\n",
    "product = reduce((lambda x, y: x * y), [1, 2, 3])\n",
    "print(product)\n"
   ]
  },
  {
   "cell_type": "markdown",
   "metadata": {},
   "source": [
    "# List Comprehension"
   ]
  },
  {
   "cell_type": "code",
   "execution_count": null,
   "metadata": {},
   "outputs": [],
   "source": [
    "multiples = [i for i in range(30) if i % 3 == 0]\n",
    "print(multiples)"
   ]
  },
  {
   "cell_type": "code",
   "execution_count": null,
   "metadata": {},
   "outputs": [],
   "source": [
    "squared = [x**2 for x in range(10)]\n",
    "print(squared)"
   ]
  },
  {
   "cell_type": "markdown",
   "metadata": {},
   "source": [
    "# Dict Comprehension"
   ]
  },
  {
   "cell_type": "code",
   "execution_count": null,
   "metadata": {},
   "outputs": [],
   "source": [
    "mcase = {'a': 5, 'b': 3, 'A': 7, 'Z': 6}\n",
    "{v: k for k, v in mcase.items()}"
   ]
  },
  {
   "cell_type": "markdown",
   "metadata": {},
   "source": [
    "# Set Comprehension"
   ]
  },
  {
   "cell_type": "code",
   "execution_count": null,
   "metadata": {},
   "outputs": [],
   "source": [
    "squared = {x**2 for x in [0,1,1,2]}\n",
    "print(squared)"
   ]
  },
  {
   "cell_type": "markdown",
   "metadata": {},
   "source": [
    "# In the previous set example, can you explain the output?"
   ]
  },
  {
   "cell_type": "markdown",
   "metadata": {},
   "source": [
    "the output of 0, 1, 4 is explained by the fact that a set can only have one unique output...\n",
    "\n"
   ]
  },
  {
   "cell_type": "markdown",
   "metadata": {},
   "source": [
    "# LAMBDA"
   ]
  },
  {
   "cell_type": "code",
   "execution_count": null,
   "metadata": {},
   "outputs": [],
   "source": [
    "lambda x: x*2"
   ]
  },
  {
   "cell_type": "code",
   "execution_count": null,
   "metadata": {},
   "outputs": [],
   "source": [
    "lambda x:x*2"
   ]
  },
  {
   "cell_type": "code",
   "execution_count": null,
   "metadata": {},
   "outputs": [],
   "source": [
    "(lambda x:x*2)(4)"
   ]
  },
  {
   "cell_type": "code",
   "execution_count": null,
   "metadata": {},
   "outputs": [],
   "source": [
    "l = [lambda x, y: x+y]"
   ]
  },
  {
   "cell_type": "code",
   "execution_count": null,
   "metadata": {},
   "outputs": [],
   "source": [
    "type(l[0])"
   ]
  },
  {
   "cell_type": "code",
   "execution_count": null,
   "metadata": {},
   "outputs": [],
   "source": [
    "leg = ((27.154167, -80.195663), (29.195168, -81.002998), 129.7748)\n",
    "start= lambda x: x[0]\n",
    "end  = lambda x: x[1]\n",
    "dist = lambda x: x[2]\n",
    "dist(leg)"
   ]
  },
  {
   "cell_type": "markdown",
   "metadata": {},
   "source": [
    "# Iter() Operation\n",
    "Examples of Iter - lists, dictionaries etc ...."
   ]
  },
  {
   "cell_type": "code",
   "execution_count": null,
   "metadata": {},
   "outputs": [],
   "source": [
    "iter([2,3,4])"
   ]
  },
  {
   "cell_type": "code",
   "execution_count": null,
   "metadata": {},
   "outputs": [],
   "source": [
    "iter({1:2, 3:4, 5:8})"
   ]
  },
  {
   "cell_type": "code",
   "execution_count": null,
   "metadata": {},
   "outputs": [],
   "source": [
    "## is this iterable? Try ....\n",
    "\n",
    "iter(104)"
   ]
  },
  {
   "cell_type": "code",
   "execution_count": null,
   "metadata": {},
   "outputs": [],
   "source": [
    "##Lets start with user defined String class\n",
    "class String(object):\n",
    "    def __init__(self, val):\n",
    "        self.val = val\n",
    "    def __str__(self):\n",
    "        return self.val"
   ]
  },
  {
   "cell_type": "code",
   "execution_count": null,
   "metadata": {},
   "outputs": [],
   "source": [
    "st = String('sample string')"
   ]
  },
  {
   "cell_type": "markdown",
   "metadata": {},
   "source": [
    "# Is the above string iterable? lets test it."
   ]
  },
  {
   "cell_type": "markdown",
   "metadata": {},
   "source": [
    "# Why didn't this work?\n"
   ]
  },
  {
   "cell_type": "markdown",
   "metadata": {},
   "source": [
    "# What's missing?"
   ]
  },
  {
   "cell_type": "markdown",
   "metadata": {},
   "source": [
    "the magic - an_iterator.iter()"
   ]
  },
  {
   "cell_type": "markdown",
   "metadata": {},
   "source": [
    "# Then, how should we make user defined type iterable?"
   ]
  },
  {
   "cell_type": "markdown",
   "metadata": {},
   "source": [
    "This can be done by extending our String class with iter constructor"
   ]
  },
  {
   "cell_type": "code",
   "execution_count": null,
   "metadata": {},
   "outputs": [],
   "source": [
    "class String(object):\n",
    "    def __init__(self, val):\n",
    "        self.val = val\n",
    "    def __str__(self):\n",
    "        return self.val\n",
    "    def __iter__(self):\n",
    "        print (\"This is __iter__ method of String class\")\n",
    "        return iter(self.val)  #self.val is python string so iter() will return it's iterator"
   ]
  },
  {
   "cell_type": "code",
   "execution_count": null,
   "metadata": {},
   "outputs": [],
   "source": [
    "st = String('Sample String')"
   ]
  },
  {
   "cell_type": "code",
   "execution_count": null,
   "metadata": {},
   "outputs": [],
   "source": [
    "iter(st)"
   ]
  },
  {
   "cell_type": "markdown",
   "metadata": {},
   "source": [
    "# We added a iter method in our String class to make String type as iterable. That means iter(iterable) calls iterable.iter() internally.\n",
    "You could also do this using getitem"
   ]
  },
  {
   "cell_type": "code",
   "execution_count": null,
   "metadata": {},
   "outputs": [],
   "source": [
    "class String(object):\n",
    "    def __init__(self, val):\n",
    "        self.val = val\n",
    "    def __str__(self):\n",
    "        return self.val\n",
    "    def __getitem__(self, index):\n",
    "        return self.val[index]"
   ]
  },
  {
   "cell_type": "code",
   "execution_count": null,
   "metadata": {},
   "outputs": [],
   "source": [
    "st = String('Sample String')"
   ]
  },
  {
   "cell_type": "code",
   "execution_count": null,
   "metadata": {},
   "outputs": [],
   "source": [
    "iter(st)"
   ]
  },
  {
   "cell_type": "markdown",
   "metadata": {},
   "source": [
    "# We added getitem method and user defined String type becomes iterable. So iter(iterable) look for iterable.getitem() also.¶"
   ]
  },
  {
   "cell_type": "markdown",
   "metadata": {},
   "source": [
    "# Iterator\n",
    "1)Iterator object produces values of iterable during iteration. next() or next() is applied on iterator for producing next value\n",
    "\n",
    "2)It raises StopIteration exception at the end of iteration\n",
    "\n",
    "3)iter() function return iterator object for an iterable\n",
    "\n",
    "4)If iter() function is applied on iterator object, it returns same object"
   ]
  },
  {
   "cell_type": "code",
   "execution_count": null,
   "metadata": {},
   "outputs": [],
   "source": [
    "## List as an iterator\n",
    "\n",
    "a_list = [1,2,3]\n",
    "list_iter = a_list.__iter__()\n",
    "\n",
    "## before python 2.6 I think - list_iter.next()\n",
    "list_iter.__next__()\n"
   ]
  },
  {
   "cell_type": "code",
   "execution_count": null,
   "metadata": {},
   "outputs": [],
   "source": [
    "list_iter.__next__()"
   ]
  },
  {
   "cell_type": "markdown",
   "metadata": {},
   "source": [
    "# IterTools\n",
    "itertools is a collection of utilities that make it easy to build an iterator that iterates over sequences in various common ways\n",
    "\n",
    "http://docs.python.org/library/itertools.html\n",
    "\n",
    "NOTE:\n",
    "\n",
    "iterators are not only for for\n",
    "\n",
    "They can be used with anything that expects an iterator:\n",
    "\n",
    "sum, tuple, sorted, and list\n",
    "\n",
    "For example."
   ]
  },
  {
   "cell_type": "code",
   "execution_count": null,
   "metadata": {},
   "outputs": [],
   "source": [
    "import itertools\n",
    "\n",
    "letters = ['a', 'b', 'c', 'd', 'e', 'f']\n",
    "booleans = [1, 0, 1, 0, 0, 1]\n",
    "numbers = [23, 20, 44, 32, 7, 12]\n",
    "decimals = [0.1, 0.7, 0.4, 0.4, 0.5]"
   ]
  },
  {
   "cell_type": "markdown",
   "metadata": {},
   "source": [
    "# Chain"
   ]
  },
  {
   "cell_type": "code",
   "execution_count": null,
   "metadata": {},
   "outputs": [],
   "source": [
    "print (list(itertools.chain(letters, booleans, decimals)))"
   ]
  },
  {
   "cell_type": "markdown",
   "metadata": {},
   "source": [
    "# compress()\n",
    "compress(): given two lists a and b, return the elements of a for which the corresponding elements of b are Tru"
   ]
  },
  {
   "cell_type": "code",
   "execution_count": null,
   "metadata": {},
   "outputs": [],
   "source": [
    "print (list(itertools.compress(letters, booleans)))"
   ]
  },
  {
   "cell_type": "markdown",
   "metadata": {},
   "source": [
    "# Zip ()"
   ]
  },
  {
   "cell_type": "code",
   "execution_count": null,
   "metadata": {},
   "outputs": [],
   "source": [
    "xi= [1.47, 1.50, 1.52, 1.55, 1.57, 1.60, 1.63, 1.65]\n",
    "yi= [52.21, 53.12, 54.48, 55.84, 57.20, 58.57, 59.93, 61.29]\n",
    "zip( xi, yi )"
   ]
  },
  {
   "cell_type": "code",
   "execution_count": null,
   "metadata": {},
   "outputs": [],
   "source": [
    "list(zip( xi, yi ))"
   ]
  },
  {
   "cell_type": "code",
   "execution_count": null,
   "metadata": {},
   "outputs": [],
   "source": [
    "zip( xi, yi )"
   ]
  },
  {
   "cell_type": "code",
   "execution_count": null,
   "metadata": {},
   "outputs": [],
   "source": [
    "list(_)"
   ]
  },
  {
   "cell_type": "markdown",
   "metadata": {},
   "source": [
    "# We can see that the zip() function with no arguments is a generator function, but there won't be any items. This fits the requirement that the output is iterable."
   ]
  },
  {
   "cell_type": "code",
   "execution_count": null,
   "metadata": {},
   "outputs": [],
   "source": [
    "zip( (1,2,3) )"
   ]
  },
  {
   "cell_type": "code",
   "execution_count": null,
   "metadata": {},
   "outputs": [],
   "source": [
    "list(_)\n",
    "\n",
    "## In this case, the zip() function emitted one tuple from each input value. This too makes considerable sense."
   ]
  }
 ],
 "metadata": {
  "kernelspec": {
   "display_name": "Python 3",
   "language": "python",
   "name": "python3"
  },
  "language_info": {
   "codemirror_mode": {
    "name": "ipython",
    "version": 3
   },
   "file_extension": ".py",
   "mimetype": "text/x-python",
   "name": "python",
   "nbconvert_exporter": "python",
   "pygments_lexer": "ipython3",
   "version": "3.6.5"
  }
 },
 "nbformat": 4,
 "nbformat_minor": 2
}

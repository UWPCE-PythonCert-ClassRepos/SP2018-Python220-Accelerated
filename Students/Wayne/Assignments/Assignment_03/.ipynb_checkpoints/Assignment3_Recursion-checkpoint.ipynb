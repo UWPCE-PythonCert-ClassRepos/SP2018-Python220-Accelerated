{
 "cells": [
  {
   "cell_type": "markdown",
   "metadata": {},
   "source": [
    "Write a recursive solution for the factorial function.\n",
    "\n",
    "5!=5x4x3x2x1=120\n",
    "\n",
    "n   n!\n",
    "\n",
    "0\t1\n",
    "1\t1\n",
    "2\t2\n",
    "3\t6\n",
    "4\t24\n",
    "5\t120\n",
    "6\t720\n",
    "7\t5,040\n",
    "8\t40,320\n",
    "9\t362,880\n",
    "10\t3,628,800"
   ]
  }
 ],
 "metadata": {
  "kernelspec": {
   "display_name": "Python 3",
   "language": "python",
   "name": "python3"
  },
  "language_info": {
   "codemirror_mode": {
    "name": "ipython",
    "version": 3
   },
   "file_extension": ".py",
   "mimetype": "text/x-python",
   "name": "python",
   "nbconvert_exporter": "python",
   "pygments_lexer": "ipython3",
   "version": "3.6.5"
  }
 },
 "nbformat": 4,
 "nbformat_minor": 2
}

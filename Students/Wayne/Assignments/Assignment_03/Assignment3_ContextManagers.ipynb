{
 "cells": [
  {
   "cell_type": "markdown",
   "metadata": {},
   "source": [
    "#Context Managers\n",
    "\n",
    "The Ballard LocksLinks to an external site. in Seattle, Washington are a limited, controlled resource. You have been hired by the Army Corps of Engineers to help build a software control system for the lockes. There are two lockes at the Ballard complex, one small (30 x 150 feet, 8.5 x 45.7 meter) and one large (80 x 825 feet, 24.4 x 251.5 meter). There are myriad ways in which different components of the lockes represent limited resources with specialized subsystems, and a missed or out-of-sequence step could mean disaster. For instance, there are two sets of doors for each locke, one upstream and one down, that cannot both be open at the same time; boats need to clear the doors before they are closed and sealed; pumps need to be shut down before doors are opened; tourists, who can get very close to observe the action, need to be safely managed; the lockes themselves can only handle a certain number of boats. At every step of the way there is a limited resource that must be managed and in lock step with the others, yes, pun intended. In effect it involves the coordinated management of resources all the way down.\n",
    "\n",
    "For this first task you do not need to model every aspect of the lockes, indeed you only need model its operation overall. Early on you learn that there will be other software developers interacting with the system and that not everyone is going to remember all the details of using the resources of each component. Your task is to model the use of resources, of system components, as simply as possible. You recognize that with all the operational and sequencing details to be encapsulated, this is a good use case for context managers.\n",
    "\n",
    "Wondering about the consistent misspelling of the word lock? As an early design decision we have decided to avoid overloading the term, which in the context can be interpreted both as a verb and as a noun and thereby cause confusion. For any instances of the verb use its usual spelling: lock. For any instances of the noun use an alternative spelling: locke. We have adopted this convention throughout the exercise.\n",
    "\n",
    "Write a context manager class Locke to simulate the overall functioning of the system. When the locke is entered it stops the pumps, opens the doors, closes the doors, and restarts the pumps. Likewise when the locke is exited it runs through the same steps: it stops the pumps, opens the doors, closes the doors, and restarts the pumps. Don’t worry for now that in the real world there are both upstream and downstream doors, and that they should never be opened at the same time; perhaps you’ll get to that later. During initialization the context manger class accepts the locke’s capacity in number of boats. If someone tries to move too many boats through the locke, anything over its established capacity, raise a suitable error. Since this is a simulation you need do nothing more than print what is happening with the doors and pumps, like this:"
   ]
  },
  {
   "cell_type": "markdown",
   "metadata": {},
   "source": [
    "Print Statements\n",
    "    \n",
    "    \"Stopping the pumps.\"\n",
    "    \"Opening the doors.\"\n",
    "    \"Closing the doors.\"\n",
    "    \"Restarting the pumps.\""
   ]
  },
  {
   "cell_type": "code",
   "execution_count": 75,
   "metadata": {},
   "outputs": [],
   "source": [
    "class Locke():\n",
    "    def __init__(self, boats, locke=None, error=None):\n",
    "        self.boats = boats\n",
    "        self.locke = locke\n",
    "        self.error = error\n",
    "\n",
    "    def __enter__(self):\n",
    "        if not self.error:\n",
    "            print('''Lock Status:\n",
    "                          Stopping the pumps\n",
    "                          Opening the doors\n",
    "                          Closing the doors\n",
    "                          Starting the pumps\n",
    "                ''')\n",
    "        return self\n",
    "\n",
    "    def move_boats_through(self, boats, locke):\n",
    "        \n",
    "        if self.boats > self.locke:\n",
    "            raise ValueError('Too many boats for the locks')\n",
    "        else:\n",
    "            return self\n",
    "\n",
    "    def __exit__(self, exc_type, exc_val, exc_tb):\n",
    "        if not self.error:\n",
    "            print('''Lock Status:\n",
    "                          Stopping the pumps\n",
    "                          Opening the doors\n",
    "                          Closing the doors\n",
    "                          Starting the pumps\n",
    "                ''')\n",
    "        return self.error\n",
    "\n",
    "    "
   ]
  },
  {
   "cell_type": "code",
   "execution_count": 77,
   "metadata": {},
   "outputs": [
    {
     "name": "stdout",
     "output_type": "stream",
     "text": [
      "Lock Status:\n",
      "                          Stopping the pumps\n",
      "                          Opening the doors\n",
      "                          Closing the doors\n",
      "                          Starting the pumps\n",
      "                \n",
      "Lock Status:\n",
      "                          Stopping the pumps\n",
      "                          Opening the doors\n",
      "                          Closing the doors\n",
      "                          Starting the pumps\n",
      "                \n"
     ]
    },
    {
     "ename": "TypeError",
     "evalue": "'>' not supported between instances of 'int' and 'NoneType'",
     "output_type": "error",
     "traceback": [
      "\u001b[0;31m---------------------------------------------------------------------------\u001b[0m",
      "\u001b[0;31mTypeError\u001b[0m                                 Traceback (most recent call last)",
      "\u001b[0;32m<ipython-input-77-51cbe4273848>\u001b[0m in \u001b[0;36m<module>\u001b[0;34m()\u001b[0m\n\u001b[1;32m      7\u001b[0m \u001b[0;31m# Too many boats through a small locke will raise an exception\u001b[0m\u001b[0;34m\u001b[0m\u001b[0;34m\u001b[0m\u001b[0m\n\u001b[1;32m      8\u001b[0m \u001b[0;32mwith\u001b[0m \u001b[0msmall_locke\u001b[0m \u001b[0;32mas\u001b[0m \u001b[0mlocke\u001b[0m\u001b[0;34m:\u001b[0m\u001b[0;34m\u001b[0m\u001b[0m\n\u001b[0;32m----> 9\u001b[0;31m     \u001b[0mlocke\u001b[0m\u001b[0;34m.\u001b[0m\u001b[0mmove_boats_through\u001b[0m\u001b[0;34m(\u001b[0m\u001b[0mboats\u001b[0m\u001b[0;34m,\u001b[0m\u001b[0mlocke\u001b[0m\u001b[0;34m)\u001b[0m\u001b[0;34m\u001b[0m\u001b[0m\n\u001b[0m\u001b[1;32m     10\u001b[0m \u001b[0;31m# A lock with sufficient capacity can move boats without incident.\u001b[0m\u001b[0;34m\u001b[0m\u001b[0;34m\u001b[0m\u001b[0m\n\u001b[1;32m     11\u001b[0m \u001b[0;32mwith\u001b[0m \u001b[0mlarge_locke\u001b[0m \u001b[0;32mas\u001b[0m \u001b[0mlocke\u001b[0m\u001b[0;34m:\u001b[0m\u001b[0;34m\u001b[0m\u001b[0m\n",
      "\u001b[0;32m<ipython-input-75-b1eb8234d363>\u001b[0m in \u001b[0;36mmove_boats_through\u001b[0;34m(self, boats, locke)\u001b[0m\n\u001b[1;32m     19\u001b[0m         \u001b[0;31m#This is how you might interact with your Locke class.\u001b[0m\u001b[0;34m\u001b[0m\u001b[0;34m\u001b[0m\u001b[0m\n\u001b[1;32m     20\u001b[0m \u001b[0;34m\u001b[0m\u001b[0m\n\u001b[0;32m---> 21\u001b[0;31m         \u001b[0;32mif\u001b[0m \u001b[0mself\u001b[0m\u001b[0;34m.\u001b[0m\u001b[0mboats\u001b[0m \u001b[0;34m>\u001b[0m \u001b[0mself\u001b[0m\u001b[0;34m.\u001b[0m\u001b[0mlocke\u001b[0m\u001b[0;34m:\u001b[0m\u001b[0;34m\u001b[0m\u001b[0m\n\u001b[0m\u001b[1;32m     22\u001b[0m             \u001b[0;32mraise\u001b[0m \u001b[0mValueError\u001b[0m\u001b[0;34m(\u001b[0m\u001b[0;34m'Too many boats for the locks'\u001b[0m\u001b[0;34m)\u001b[0m\u001b[0;34m\u001b[0m\u001b[0m\n\u001b[1;32m     23\u001b[0m         \u001b[0;32melse\u001b[0m\u001b[0;34m:\u001b[0m\u001b[0;34m\u001b[0m\u001b[0m\n",
      "\u001b[0;31mTypeError\u001b[0m: '>' not supported between instances of 'int' and 'NoneType'"
     ]
    }
   ],
   "source": [
    "# Tests the Context Manager \n",
    "\n",
    "small_locke = Locke(5)\n",
    "large_locke = Locke(10)\n",
    "boats = 15\n",
    "\n",
    "# Too many boats through a small locke will raise an exception\n",
    "with small_locke as locke:\n",
    "    locke.move_boats_through(boats,locke)\n",
    "# A lock with sufficient capacity can move boats without incident.\n",
    "with large_locke as locke:\n",
    "    locke.move_boats_through(boats,locke)\n",
    "\n",
    "    "
   ]
  }
 ],
 "metadata": {
  "kernelspec": {
   "display_name": "Python 3",
   "language": "python",
   "name": "python3"
  },
  "language_info": {
   "codemirror_mode": {
    "name": "ipython",
    "version": 3
   },
   "file_extension": ".py",
   "mimetype": "text/x-python",
   "name": "python",
   "nbconvert_exporter": "python",
   "pygments_lexer": "ipython3",
   "version": "3.6.5"
  }
 },
 "nbformat": 4,
 "nbformat_minor": 2
}

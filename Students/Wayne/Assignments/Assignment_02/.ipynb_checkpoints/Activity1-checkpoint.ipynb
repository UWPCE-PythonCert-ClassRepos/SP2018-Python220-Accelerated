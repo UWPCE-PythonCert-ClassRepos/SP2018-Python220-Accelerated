{
 "cells": [
  {
   "cell_type": "markdown",
   "metadata": {},
   "source": [
    "# Iterators and Iterables"
   ]
  },
  {
   "cell_type": "code",
   "execution_count": 1,
   "metadata": {},
   "outputs": [],
   "source": [
    "class IterateMe_1:\n",
    "    \"\"\"\n",
    "    About as simple an iterator as you can get:\n",
    "\n",
    "    returns the sequence of numbers from zero to 4\n",
    "    ( like range(4) )\n",
    "    \"\"\"\n",
    "\n",
    "    def __init__(self, stop=10):\n",
    "        self.current = -1\n",
    "        self.stop = stop\n",
    "\n",
    "    def __iter__(self):\n",
    "        return self\n",
    "\n",
    "    def __next__(self):\n",
    "        self.current += 1\n",
    "        if self.current < self.stop:\n",
    "            return self.current\n",
    "        else:\n",
    "            raise StopIteration\n",
    "\n",
    "\n",
    "class IterateMe_2:\n",
    "\n",
    "    def __init__(self, start, stop, step):\n",
    "        self.current = start - step\n",
    "        self.stop = stop\n",
    "        self.start = start\n",
    "        self.step = step\n",
    "\n",
    "    def __iter__(self):\n",
    "        return self\n",
    "\n",
    "    def __next__(self):\n",
    "        self.current += self.step\n",
    "        if self.current < self.stop:\n",
    "            return self.current\n",
    "        else:\n",
    "            raise StopIteration\n",
    "\n",
    "\n",
    "it = IterateMe_2(2, 20, 2)\n",
    "for i in it:\n",
    "    if i > 10:  break\n",
    "\n",
    "\n",
    "def rng():\n",
    "    print(\"Range function\")\n",
    "    for i in range(2, 20, 2):\n",
    "        print(i)\n"
   ]
  },
  {
   "cell_type": "code",
   "execution_count": 2,
   "metadata": {},
   "outputs": [
    {
     "name": "stdout",
     "output_type": "stream",
     "text": [
      "Testing the iterator\n",
      "0\n",
      "1\n",
      "2\n",
      "3\n",
      "4\n",
      "5\n",
      "6\n",
      "7\n",
      "8\n",
      "9\n",
      "Testing the IT iterator\n",
      "14\n",
      "16\n",
      "18\n",
      "Range function\n",
      "2\n",
      "4\n",
      "6\n",
      "8\n",
      "10\n",
      "12\n",
      "14\n",
      "16\n",
      "18\n"
     ]
    }
   ],
   "source": [
    "if __name__ == \"__main__\":\n",
    "\n",
    "    print(\"Testing the iterator\")\n",
    "    for i in IterateMe_1():\n",
    "        print(i)\n",
    "\n",
    "    print(\"Testing the IT iterator\")\n",
    "    for i in it:\n",
    "        print(i)\n",
    "\n",
    "rng()"
   ]
  },
  {
   "cell_type": "markdown",
   "metadata": {},
   "source": [
    "is range an iterator or an iteratable? Range is an interables, because you cannot call next on range. An iterator will change the state of the objects in the sequence."
   ]
  },
  {
   "cell_type": "markdown",
   "metadata": {},
   "source": [
    "# GENERATOR"
   ]
  },
  {
   "cell_type": "markdown",
   "metadata": {},
   "source": [
    "Sum of the integers:\n",
    "\n",
    "keep adding the next integer\n",
    "\n",
    "0 + 1 + 2 + 3 + 4 + 5 + …\n",
    "\n",
    "so the sequence is:\n",
    "\n",
    "0, 1, 3, 6, 10, 15 ….."
   ]
  },
  {
   "cell_type": "code",
   "execution_count": null,
   "metadata": {},
   "outputs": [],
   "source": [
    "def sum_fun():\n",
    "        for n in range(1,6,1):\n",
    "            yield n*(n+1)/2\n",
    "            \n",
    "sum_it = (sum_fun())"
   ]
  },
  {
   "cell_type": "code",
   "execution_count": null,
   "metadata": {},
   "outputs": [],
   "source": [
    "list(sum_it)"
   ]
  },
  {
   "cell_type": "markdown",
   "metadata": {},
   "source": [
    "Doubler:\n",
    "\n",
    "Each value is double the previous value:\n",
    "\n",
    "1, 2, 4, 8, 16, 32,"
   ]
  },
  {
   "cell_type": "code",
   "execution_count": null,
   "metadata": {},
   "outputs": [],
   "source": [
    "def doubler():\n",
    "        for n in range(1,7,1):\n",
    "            yield (n+1)*2\n",
    "            \n",
    "        \n",
    "double_it = (doubler())"
   ]
  },
  {
   "cell_type": "code",
   "execution_count": null,
   "metadata": {},
   "outputs": [],
   "source": [
    "list(double_it)"
   ]
  },
  {
   "cell_type": "markdown",
   "metadata": {},
   "source": [
    "Fibonacci sequence:\n",
    "    \n",
    "The Fibonacci sequence as a generator:\n",
    "\n",
    "f(n) = f(n-1) + f(n-2)\n",
    "\n",
    "1, 1, 2, 3, 5, 8, 13, 21, 34…"
   ]
  },
  {
   "cell_type": "markdown",
   "metadata": {},
   "source": [
    "Generate the prime numbers (numbers only divisible by them self and 1):\n",
    "\n",
    "2, 3, 5, 7, 11, 13, 17, 19, 23…"
   ]
  }
 ],
 "metadata": {
  "kernelspec": {
   "display_name": "Python 3",
   "language": "python",
   "name": "python3"
  },
  "language_info": {
   "codemirror_mode": {
    "name": "ipython",
    "version": 3
   },
   "file_extension": ".py",
   "mimetype": "text/x-python",
   "name": "python",
   "nbconvert_exporter": "python",
   "pygments_lexer": "ipython3",
   "version": "3.6.5"
  }
 },
 "nbformat": 4,
 "nbformat_minor": 2
}

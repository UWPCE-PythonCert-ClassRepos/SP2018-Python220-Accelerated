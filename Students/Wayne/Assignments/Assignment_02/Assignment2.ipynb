{
 "cells": [
  {
   "cell_type": "code",
   "execution_count": 28,
   "metadata": {},
   "outputs": [],
   "source": [
    "import pandas as pd \n",
    "music = pd.read_csv('spotify.csv')"
   ]
  },
  {
   "cell_type": "code",
   "execution_count": 16,
   "metadata": {},
   "outputs": [
    {
     "data": {
      "text/html": [
       "<div>\n",
       "<style scoped>\n",
       "    .dataframe tbody tr th:only-of-type {\n",
       "        vertical-align: middle;\n",
       "    }\n",
       "\n",
       "    .dataframe tbody tr th {\n",
       "        vertical-align: top;\n",
       "    }\n",
       "\n",
       "    .dataframe thead th {\n",
       "        text-align: right;\n",
       "    }\n",
       "</style>\n",
       "<table border=\"1\" class=\"dataframe\">\n",
       "  <thead>\n",
       "    <tr style=\"text-align: right;\">\n",
       "      <th></th>\n",
       "      <th>id</th>\n",
       "      <th>name</th>\n",
       "      <th>artists</th>\n",
       "      <th>danceability</th>\n",
       "      <th>energy</th>\n",
       "      <th>key</th>\n",
       "      <th>loudness</th>\n",
       "      <th>mode</th>\n",
       "      <th>speechiness</th>\n",
       "      <th>acousticness</th>\n",
       "      <th>instrumentalness</th>\n",
       "      <th>liveness</th>\n",
       "      <th>valence</th>\n",
       "      <th>tempo</th>\n",
       "      <th>duration_ms</th>\n",
       "      <th>time_signature</th>\n",
       "    </tr>\n",
       "  </thead>\n",
       "  <tbody>\n",
       "    <tr>\n",
       "      <th>0</th>\n",
       "      <td>7qiZfU4dY1lWllzX7mPBI</td>\n",
       "      <td>Shape of You</td>\n",
       "      <td>Ed Sheeran</td>\n",
       "      <td>0.825</td>\n",
       "      <td>0.652</td>\n",
       "      <td>1</td>\n",
       "      <td>-3.183</td>\n",
       "      <td>0</td>\n",
       "      <td>0.0802</td>\n",
       "      <td>0.5810</td>\n",
       "      <td>0.000000</td>\n",
       "      <td>0.0931</td>\n",
       "      <td>0.931</td>\n",
       "      <td>95.977</td>\n",
       "      <td>233713</td>\n",
       "      <td>4</td>\n",
       "    </tr>\n",
       "    <tr>\n",
       "      <th>1</th>\n",
       "      <td>5CtI0qwDJkDQGwXD1H1cL</td>\n",
       "      <td>Despacito - Remix</td>\n",
       "      <td>Luis Fonsi</td>\n",
       "      <td>0.694</td>\n",
       "      <td>0.815</td>\n",
       "      <td>2</td>\n",
       "      <td>-4.328</td>\n",
       "      <td>1</td>\n",
       "      <td>0.1200</td>\n",
       "      <td>0.2290</td>\n",
       "      <td>0.000000</td>\n",
       "      <td>0.0924</td>\n",
       "      <td>0.813</td>\n",
       "      <td>88.931</td>\n",
       "      <td>228827</td>\n",
       "      <td>4</td>\n",
       "    </tr>\n",
       "    <tr>\n",
       "      <th>2</th>\n",
       "      <td>4aWmUDTfIPGksMNLV2rQP</td>\n",
       "      <td>Despacito (Featuring Daddy Yankee)</td>\n",
       "      <td>Luis Fonsi</td>\n",
       "      <td>0.660</td>\n",
       "      <td>0.786</td>\n",
       "      <td>2</td>\n",
       "      <td>-4.757</td>\n",
       "      <td>1</td>\n",
       "      <td>0.1700</td>\n",
       "      <td>0.2090</td>\n",
       "      <td>0.000000</td>\n",
       "      <td>0.1120</td>\n",
       "      <td>0.846</td>\n",
       "      <td>177.833</td>\n",
       "      <td>228200</td>\n",
       "      <td>4</td>\n",
       "    </tr>\n",
       "    <tr>\n",
       "      <th>3</th>\n",
       "      <td>6RUKPb4LETWmmr3iAEQkt</td>\n",
       "      <td>Something Just Like This</td>\n",
       "      <td>The Chainsmokers</td>\n",
       "      <td>0.617</td>\n",
       "      <td>0.635</td>\n",
       "      <td>11</td>\n",
       "      <td>-6.769</td>\n",
       "      <td>0</td>\n",
       "      <td>0.0317</td>\n",
       "      <td>0.0498</td>\n",
       "      <td>0.000014</td>\n",
       "      <td>0.1640</td>\n",
       "      <td>0.446</td>\n",
       "      <td>103.019</td>\n",
       "      <td>247160</td>\n",
       "      <td>4</td>\n",
       "    </tr>\n",
       "    <tr>\n",
       "      <th>4</th>\n",
       "      <td>3DXncPQOG4VBw3QHh3S81</td>\n",
       "      <td>I'm the One</td>\n",
       "      <td>DJ Khaled</td>\n",
       "      <td>0.609</td>\n",
       "      <td>0.668</td>\n",
       "      <td>7</td>\n",
       "      <td>-4.284</td>\n",
       "      <td>1</td>\n",
       "      <td>0.0367</td>\n",
       "      <td>0.0552</td>\n",
       "      <td>0.000000</td>\n",
       "      <td>0.1670</td>\n",
       "      <td>0.811</td>\n",
       "      <td>80.924</td>\n",
       "      <td>288600</td>\n",
       "      <td>4</td>\n",
       "    </tr>\n",
       "  </tbody>\n",
       "</table>\n",
       "</div>"
      ],
      "text/plain": [
       "                      id                                name  \\\n",
       "0  7qiZfU4dY1lWllzX7mPBI                        Shape of You   \n",
       "1  5CtI0qwDJkDQGwXD1H1cL                   Despacito - Remix   \n",
       "2  4aWmUDTfIPGksMNLV2rQP  Despacito (Featuring Daddy Yankee)   \n",
       "3  6RUKPb4LETWmmr3iAEQkt            Something Just Like This   \n",
       "4  3DXncPQOG4VBw3QHh3S81                         I'm the One   \n",
       "\n",
       "            artists  danceability  energy  key  loudness  mode  speechiness  \\\n",
       "0        Ed Sheeran         0.825   0.652    1    -3.183     0       0.0802   \n",
       "1        Luis Fonsi         0.694   0.815    2    -4.328     1       0.1200   \n",
       "2        Luis Fonsi         0.660   0.786    2    -4.757     1       0.1700   \n",
       "3  The Chainsmokers         0.617   0.635   11    -6.769     0       0.0317   \n",
       "4         DJ Khaled         0.609   0.668    7    -4.284     1       0.0367   \n",
       "\n",
       "   acousticness  instrumentalness  liveness  valence    tempo  duration_ms  \\\n",
       "0        0.5810          0.000000    0.0931    0.931   95.977       233713   \n",
       "1        0.2290          0.000000    0.0924    0.813   88.931       228827   \n",
       "2        0.2090          0.000000    0.1120    0.846  177.833       228200   \n",
       "3        0.0498          0.000014    0.1640    0.446  103.019       247160   \n",
       "4        0.0552          0.000000    0.1670    0.811   80.924       288600   \n",
       "\n",
       "   time_signature  \n",
       "0               4  \n",
       "1               4  \n",
       "2               4  \n",
       "3               4  \n",
       "4               4  "
      ]
     },
     "execution_count": 16,
     "metadata": {},
     "output_type": "execute_result"
    }
   ],
   "source": [
    "music.head()"
   ]
  },
  {
   "cell_type": "markdown",
   "metadata": {},
   "source": [
    "# Ed Sheerhan Generator"
   ]
  },
  {
   "cell_type": "markdown",
   "metadata": {},
   "source": [
    "Write a generator to find and print all of your favorite artist’s tracks from the data set. Your favorite artist isn’t represented in that set? In that case, find Ed Sheeran’s tracks.\n",
    "\n",
    "Load the data set following the instructions from last week. Submit your generator expression and the titles of Ed’s tracks.\n",
    "\n"
   ]
  },
  {
   "cell_type": "code",
   "execution_count": 176,
   "metadata": {},
   "outputs": [],
   "source": [
    "def thinking_outloud_generator():\n",
    "    track = []\n",
    "    for track in ([a, n] for a, n in zip(music.artists,\n",
    "                                         music.name)\n",
    "    if a == 'Ed Sheeran'): \n",
    "        yield track\n",
    "\n"
   ]
  },
  {
   "cell_type": "code",
   "execution_count": 180,
   "metadata": {},
   "outputs": [
    {
     "name": "stdout",
     "output_type": "stream",
     "text": [
      "<generator object thinking_outloud_generator at 0x1148cb728>\n"
     ]
    }
   ],
   "source": [
    "print(thinking_outloud_generator())"
   ]
  },
  {
   "cell_type": "code",
   "execution_count": 179,
   "metadata": {},
   "outputs": [
    {
     "data": {
      "text/plain": [
       "[['Ed Sheeran', 'Shape of You'],\n",
       " ['Ed Sheeran', 'Castle on the Hill'],\n",
       " ['Ed Sheeran', 'Galway Girl'],\n",
       " ['Ed Sheeran', 'Perfect']]"
      ]
     },
     "execution_count": 179,
     "metadata": {},
     "output_type": "execute_result"
    }
   ],
   "source": [
    "list(thinking_outloud_generator())"
   ]
  },
  {
   "cell_type": "markdown",
   "metadata": {},
   "source": [
    "# Get Amped Closures "
   ]
  },
  {
   "cell_type": "markdown",
   "metadata": {},
   "source": [
    "\n",
    "Using the same data set, write a closure to capture high energy tracks. We will define high energy tracks as anything over 8.0. Submit your code and the tracks it finds, artist name, track name and energy value."
   ]
  },
  {
   "cell_type": "code",
   "execution_count": 140,
   "metadata": {},
   "outputs": [],
   "source": [
    "def get_amped():\n",
    "    energy = music.energy\n",
    "    he = .8 < energy\n",
    "    def high_energy():\n",
    "        nonlocal he\n",
    "        return([[a, n, he] for a, n, he in zip(music.artists,\n",
    "                                              music.name,\n",
    "                                              music.energy,\n",
    "                                              he)])\n",
    "                                            \n",
    "    return ([[a, n, e, he] for a,n,e, he in zip(\n",
    "                                       music.artists,\n",
    "                                       music.name,\n",
    "                                       music.energy,\n",
    "                                       he\n",
    "                                       )if he==True])\n",
    "  "
   ]
  },
  {
   "cell_type": "code",
   "execution_count": 141,
   "metadata": {
    "scrolled": true
   },
   "outputs": [
    {
     "data": {
      "text/plain": [
       "[['Luis Fonsi', 'Despacito - Remix', 0.815, True],\n",
       " ['Post Malone', 'Congratulations', 0.812, True],\n",
       " ['Jason Derulo',\n",
       "  'Swalla (feat. Nicki Minaj & Ty Dolla $ign)',\n",
       "  0.8170000000000001,\n",
       "  True],\n",
       " ['Ed Sheeran', 'Castle on the Hill', 0.8340000000000001, True],\n",
       " ['Imagine Dragons', 'Thunder', 0.81, True],\n",
       " ['Danny Ocean', 'Me RehÌ¼so', 0.804, True],\n",
       " ['Ed Sheeran', 'Galway Girl', 0.8759999999999999, True],\n",
       " ['The Weeknd', 'I Feel It Coming', 0.813, True],\n",
       " ['Starley', 'Call On Me - Ryan Riback Extended Remix', 0.843, True],\n",
       " ['Martin Jensen', 'Solo Dance', 0.836, True],\n",
       " ['Enrique Iglesias', 'SUBEME LA RADIO', 0.823, True],\n",
       " ['Maggie Lindemann', 'Pretty Girl - Cheat Codes X CADE Remix', 0.868, True],\n",
       " ['Bruno Mars', '24K Magic', 0.8029999999999999, True],\n",
       " ['Katy Perry', 'Chained To The Rhythm', 0.8009999999999999, True],\n",
       " ['Wisin', 'EscÌÁpate Conmigo', 0.8640000000000001, True],\n",
       " ['Steve Aoki', 'Just Hold On', 0.932, True],\n",
       " ['CNCO', 'ReggaetÌ_n Lento (Bailemos)', 0.838, True],\n",
       " ['The Vamps', 'All Night', 0.809, True],\n",
       " ['The Chainsmokers', \"Don't Let Me Down\", 0.8590000000000001, True]]"
      ]
     },
     "execution_count": 141,
     "metadata": {},
     "output_type": "execute_result"
    }
   ],
   "source": [
    "list(get_amped())"
   ]
  }
 ],
 "metadata": {
  "kernelspec": {
   "display_name": "Python 3",
   "language": "python",
   "name": "python3"
  },
  "language_info": {
   "codemirror_mode": {
    "name": "ipython",
    "version": 3
   },
   "file_extension": ".py",
   "mimetype": "text/x-python",
   "name": "python",
   "nbconvert_exporter": "python",
   "pygments_lexer": "ipython3",
   "version": "3.6.5"
  }
 },
 "nbformat": 4,
 "nbformat_minor": 2
}
